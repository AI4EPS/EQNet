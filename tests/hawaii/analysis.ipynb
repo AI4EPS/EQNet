{
 "cells": [
  {
   "cell_type": "code",
   "execution_count": null,
   "metadata": {},
   "outputs": [],
   "source": [
    "from pathlib import Path\n",
    "import pandas as pd\n",
    "import matplotlib.pyplot as plt\n",
    "from tqdm import tqdm\n",
    "import numpy as np\n",
    "import obspy\n",
    "from collections import defaultdict\n",
    "from obspy.clients.fdsn import Client\n",
    "from datetime import datetime"
   ]
  },
  {
   "cell_type": "code",
   "execution_count": null,
   "metadata": {},
   "outputs": [],
   "source": [
    "config = {}\n",
    "# config[\"starttime\"] = catalog[\"time\"].min().isoformat()\n",
    "# config[\"endtime\"] = catalog[\"time\"].max().isoformat()\n",
    "config[\"starttime\"] = \"2022-06-03T00:00:00.000\"\n",
    "config[\"endtime\"] = \"2022-06-17T00:00:00.000\"\n",
    "config[\"xlim_degree\"] = [-155.32-1, -155.32+1]\n",
    "config[\"ylim_degree\"] = [19.39-1, 19.39+1]\n",
    "\n",
    "bins = len(pd.date_range(datetime.fromisoformat(config[\"starttime\"]), datetime.fromisoformat(config[\"endtime\"]), freq=\"1H\"))"
   ]
  },
  {
   "cell_type": "code",
   "execution_count": null,
   "metadata": {},
   "outputs": [],
   "source": [
    "\n",
    "events = Client(\"iris\").get_events(\n",
    "    starttime=config[\"starttime\"],\n",
    "    endtime=config[\"endtime\"],\n",
    "    minlongitude=config[\"xlim_degree\"][0],\n",
    "    maxlongitude=config[\"xlim_degree\"][1],\n",
    "    minlatitude=config[\"ylim_degree\"][0],\n",
    "    maxlatitude=config[\"ylim_degree\"][1],\n",
    "    # filename='events.xml',\n",
    ")\n",
    "\n",
    "#     events = obspy.read_events('events.xml')\n",
    "print(f\"Number of events: {len(events)}\")\n",
    "#     events.plot('local', outfile=\"events.png\")\n",
    "#     events.plot('local')\n",
    "\n",
    "####### Save catalog ########\n",
    "catalog = defaultdict(list)\n",
    "for event in events:\n",
    "    if len(event.magnitudes) > 0:\n",
    "        catalog[\"time\"].append(event.origins[0].time.datetime)\n",
    "        catalog[\"magnitude\"].append(event.magnitudes[0].mag)\n",
    "        catalog[\"longitude\"].append(event.origins[0].longitude)\n",
    "        catalog[\"latitude\"].append(event.origins[0].latitude)\n",
    "        catalog[\"depth(m)\"].append(event.origins[0].depth)\n",
    "catalog = pd.DataFrame.from_dict(catalog).sort_values([\"time\"])\n",
    "catalog.to_csv(\n",
    "    \"catalog_iris.csv\",\n",
    "    # sep=\"\\t\",\n",
    "    index=False,\n",
    "    float_format=\"%.3f\",\n",
    "    date_format=\"%Y-%m-%dT%H:%M:%S.%f\",\n",
    "    columns=[\"time\", \"magnitude\", \"longitude\", \"latitude\", \"depth(m)\"],\n",
    ")"
   ]
  },
  {
   "cell_type": "code",
   "execution_count": null,
   "metadata": {},
   "outputs": [],
   "source": [
    "iris_catalog = pd.read_csv(\"catalog_iris.csv\")"
   ]
  },
  {
   "cell_type": "code",
   "execution_count": null,
   "metadata": {},
   "outputs": [],
   "source": [
    "das_info = pd.read_csv(\"das_info.csv\")"
   ]
  },
  {
   "cell_type": "code",
   "execution_count": null,
   "metadata": {},
   "outputs": [],
   "source": [
    "# plt.figure()\n",
    "# plt.scatter(iris_catalog[\"longitude\"], iris_catalog[\"latitude\"], s=iris_catalog[\"magnitude\"] * 10)\n",
    "\n",
    "import cartopy.crs as ccrs\n",
    "import cartopy.feature as cfeature\n",
    "from cartopy.mpl.ticker import LongitudeFormatter, LatitudeFormatter\n",
    "from matplotlib.offsetbox import AnchoredText\n",
    "\n",
    "\n",
    "fig = plt.figure()\n",
    "ax = fig.add_subplot(1, 1, 1, projection=ccrs.PlateCarree())\n",
    "ax.set_extent([config[\"xlim_degree\"][0]+0.3, config[\"xlim_degree\"][1]-0.3, config[\"ylim_degree\"][0]+0.3, config[\"ylim_degree\"][1]-0.3], crs=ccrs.PlateCarree())\n",
    "\n",
    "ax.add_feature(cfeature.LAND)\n",
    "ax.add_feature(cfeature.OCEAN)\n",
    "ax.add_feature(cfeature.COASTLINE)\n",
    "ax.add_feature(cfeature.BORDERS, linestyle=':')\n",
    "ax.add_feature(cfeature.STATES, linestyle='--')\n",
    "gl = ax.gridlines(draw_labels=True, dms=False, x_inline=False, y_inline=False)\n",
    "gl.xlabels_top = False\n",
    "gl.ylabels_right = False\n",
    "gl.xlines = False\n",
    "gl.ylines = False\n",
    "\n",
    "## add anchor text to the mean of das_info\n",
    "im = ax.scatter(iris_catalog[\"longitude\"], iris_catalog[\"latitude\"], s=iris_catalog[\"magnitude\"] * 10, c=iris_catalog[\"depth(m)\"]/1e3, cmap=\"viridis_r\", marker=\"x\", transform=ccrs.PlateCarree(), label=\"IRIS catalog\")\n",
    "fig.colorbar(im, ax=ax, label=\"Depth (km)\")\n",
    "im = ax.scatter(das_info[\"longitude\"], das_info[\"latitude\"], s=10, c=\"r\", transform=ccrs.PlateCarree(), label=\"DAS location\")\n",
    "plt.legend()\n",
    "\n",
    "## add zoomin view of the das_info\n",
    "axins = ax.inset_axes([0.7, 0.7, 0.3, 0.3])\n",
    "axins.scatter(das_info[\"longitude\"], das_info[\"latitude\"], s=1, c=\"r\", label=\"DAS\")\n",
    "x1 = das_info[\"longitude\"].min() - 0.005\n",
    "x2 = das_info[\"longitude\"].max() + 0.005\n",
    "y1 = das_info[\"latitude\"].min() - 0.005\n",
    "y2 = das_info[\"latitude\"].max() + 0.005\n",
    "axins.set_xlim(x1, x2)\n",
    "axins.set_ylim(y1, y2)\n",
    "axins.set_xticks([])\n",
    "axins.set_yticks([])\n",
    "\n",
    "ax.indicate_inset_zoom(axins, edgecolor=\"black\")\n",
    "\n",
    "plt.title(\"HVO Earthquake Catalog\")\n",
    "plt.savefig(\"iris_catalog.png\", dpi=300)\n",
    "plt.show()"
   ]
  },
  {
   "cell_type": "code",
   "execution_count": null,
   "metadata": {},
   "outputs": [],
   "source": [
    "catalog = pd.read_csv(\"catalog_gamma_.csv\", parse_dates=[\"time\"])"
   ]
  },
  {
   "cell_type": "code",
   "execution_count": null,
   "metadata": {},
   "outputs": [],
   "source": [
    "plt.figure(figsize=(10, 3))\n",
    "idx = (catalog[\"number_p_picks\"] > 100)\n",
    "plt.hist(catalog[idx][\"time\"], bins=bins//5, range=(config[\"starttime\"], config[\"endtime\"]), edgecolor=\"white\", linewidth=1, label=\"DAS\")\n",
    "plt.hist(iris_catalog[\"time\"], bins=bins//5, range=(config[\"starttime\"], config[\"endtime\"]), edgecolor=\"white\", linewidth=1, alpha=0.8, label=\"IRIS\")\n",
    "# plt.gcf().autofmt_xdate()\n",
    "plt.ylabel(\"Fequency\")\n",
    "plt.xlabel(\"Date\")\n",
    "plt.legend()\n",
    "# set xrange tight\n",
    "plt.xlim(pd.to_datetime(config[\"starttime\"]), pd.to_datetime(config[\"endtime\"]))\n",
    "plt.savefig(\"gamma_time_.png\", dpi=300, bbox_inches=\"tight\")\n",
    "plt.show()"
   ]
  },
  {
   "cell_type": "code",
   "execution_count": null,
   "metadata": {},
   "outputs": [],
   "source": [
    "fig = plt.figure()\n",
    "ax = fig.add_subplot(1, 1, 1, projection=ccrs.PlateCarree())\n",
    "ax.set_extent([config[\"xlim_degree\"][0]+0.3, config[\"xlim_degree\"][1]-0.3, config[\"ylim_degree\"][0]+0.3, config[\"ylim_degree\"][1]-0.3], crs=ccrs.PlateCarree())\n",
    "\n",
    "ax.add_feature(cfeature.LAND)\n",
    "ax.add_feature(cfeature.OCEAN)\n",
    "ax.add_feature(cfeature.COASTLINE)\n",
    "ax.add_feature(cfeature.BORDERS, linestyle=':')\n",
    "ax.add_feature(cfeature.STATES, linestyle='--')\n",
    "gl = ax.gridlines(draw_labels=True, dms=False, x_inline=False, y_inline=False)\n",
    "gl.xlabels_top = False\n",
    "gl.ylabels_right = False\n",
    "gl.xlines = False\n",
    "gl.ylines = False\n",
    "\n",
    "## add anchor text to the mean of das_info\n",
    "im = ax.scatter(catalog[idx][\"longitude\"], catalog[idx][\"latitude\"], s=2.0, c=\"k\", cmap=\"viridis_r\", marker=\"x\", transform=ccrs.PlateCarree(), label=\"Event\")\n",
    "fig.colorbar(im, ax=ax, label=\"Depth (km)\")\n",
    "\n",
    "im = ax.scatter(das_info[\"longitude\"], das_info[\"latitude\"], s=10, c=\"r\", transform=ccrs.PlateCarree(), label=\"DAS\")\n",
    "\n",
    "# plt.legend()\n",
    "## add zoomin view of the das_info\n",
    "axins = ax.inset_axes([0.7, 0.7, 0.3, 0.3])\n",
    "axins.scatter(das_info[\"longitude\"], das_info[\"latitude\"], s=1, c=\"r\", label=\"DAS\")\n",
    "x1 = das_info[\"longitude\"].min() - 0.005\n",
    "x2 = das_info[\"longitude\"].max() + 0.005\n",
    "y1 = das_info[\"latitude\"].min() - 0.005\n",
    "y2 = das_info[\"latitude\"].max() + 0.005\n",
    "axins.set_xlim(x1, x2)\n",
    "axins.set_ylim(y1, y2)\n",
    "axins.set_xticklabels([])\n",
    "axins.set_yticklabels([])\n",
    "\n",
    "ax.indicate_inset_zoom(axins, edgecolor=\"black\")\n",
    "\n",
    "plt.title(\"DAS Earthquake Catalog\")\n",
    "plt.savefig(\"gamma_catalog_.png\", dpi=300, bbox_inches=\"tight\")\n",
    "plt.show()"
   ]
  },
  {
   "cell_type": "code",
   "execution_count": null,
   "metadata": {},
   "outputs": [],
   "source": [
    "catalog = pd.read_csv(\"catalog_gamma_5Hz.csv\", parse_dates=[\"time\"])"
   ]
  },
  {
   "cell_type": "code",
   "execution_count": null,
   "metadata": {},
   "outputs": [],
   "source": [
    "plt.figure(figsize=(10, 3))\n",
    "idx = (catalog[\"number_p_picks\"] > 100)\n",
    "plt.hist(catalog[idx][\"time\"], bins=bins//5, range=(config[\"starttime\"], config[\"endtime\"]), edgecolor=\"white\", linewidth=1, label=\"DAS\")\n",
    "plt.hist(iris_catalog[\"time\"], bins=bins//5, range=(config[\"starttime\"], config[\"endtime\"]), edgecolor=\"white\", linewidth=1, alpha=0.8, label=\"IRIS\")\n",
    "# plt.gcf().autofmt_xdate()\n",
    "plt.ylabel(\"Fequency\")\n",
    "plt.xlabel(\"Date\")\n",
    "plt.legend()\n",
    "# set xrange tight\n",
    "plt.xlim(pd.to_datetime(config[\"starttime\"]), pd.to_datetime(config[\"endtime\"]))\n",
    "plt.savefig(\"gamma_time_5Hz.png\", dpi=300, bbox_inches=\"tight\")\n",
    "plt.show()"
   ]
  },
  {
   "cell_type": "code",
   "execution_count": null,
   "metadata": {},
   "outputs": [],
   "source": [
    "fig = plt.figure()\n",
    "ax = fig.add_subplot(1, 1, 1, projection=ccrs.PlateCarree())\n",
    "ax.set_extent([config[\"xlim_degree\"][0]+0.3, config[\"xlim_degree\"][1]-0.3, config[\"ylim_degree\"][0]+0.3, config[\"ylim_degree\"][1]-0.3], crs=ccrs.PlateCarree())\n",
    "\n",
    "ax.add_feature(cfeature.LAND)\n",
    "ax.add_feature(cfeature.OCEAN)\n",
    "ax.add_feature(cfeature.COASTLINE)\n",
    "ax.add_feature(cfeature.BORDERS, linestyle=':')\n",
    "ax.add_feature(cfeature.STATES, linestyle='--')\n",
    "gl = ax.gridlines(draw_labels=True, dms=False, x_inline=False, y_inline=False)\n",
    "gl.xlabels_top = False\n",
    "gl.ylabels_right = False\n",
    "gl.xlines = False\n",
    "gl.ylines = False\n",
    "\n",
    "## add anchor text to the mean of das_info\n",
    "im = ax.scatter(catalog[idx][\"longitude\"], catalog[idx][\"latitude\"], s=2.0, c=\"k\", cmap=\"viridis_r\", marker=\"x\", transform=ccrs.PlateCarree(), label=\"Event\")\n",
    "fig.colorbar(im, ax=ax, label=\"Depth (km)\")\n",
    "\n",
    "im = ax.scatter(das_info[\"longitude\"], das_info[\"latitude\"], s=10, c=\"r\", transform=ccrs.PlateCarree(), label=\"DAS\")\n",
    "\n",
    "# plt.legend()\n",
    "## add zoomin view of the das_info\n",
    "axins = ax.inset_axes([0.7, 0.7, 0.3, 0.3])\n",
    "axins.scatter(das_info[\"longitude\"], das_info[\"latitude\"], s=1, c=\"r\", label=\"DAS\")\n",
    "x1 = das_info[\"longitude\"].min() - 0.005\n",
    "x2 = das_info[\"longitude\"].max() + 0.005\n",
    "y1 = das_info[\"latitude\"].min() - 0.005\n",
    "y2 = das_info[\"latitude\"].max() + 0.005\n",
    "axins.set_xlim(x1, x2)\n",
    "axins.set_ylim(y1, y2)\n",
    "axins.set_xticklabels([])\n",
    "axins.set_yticklabels([])\n",
    "\n",
    "ax.indicate_inset_zoom(axins, edgecolor=\"black\")\n",
    "\n",
    "plt.title(\"DAS Earthquake Catalog\")\n",
    "plt.savefig(\"gamma_catalog_5Hz.png\", dpi=300, bbox_inches=\"tight\")\n",
    "plt.show()"
   ]
  },
  {
   "cell_type": "code",
   "execution_count": null,
   "metadata": {},
   "outputs": [],
   "source": [
    "catalog = pd.read_csv(\"catalog_gamma_10Hz.csv\", parse_dates=[\"time\"])"
   ]
  },
  {
   "cell_type": "code",
   "execution_count": null,
   "metadata": {},
   "outputs": [],
   "source": [
    "plt.figure(figsize=(10, 3))\n",
    "idx = (catalog[\"number_p_picks\"] > 100)\n",
    "plt.hist(catalog[idx][\"time\"], bins=bins//5, range=(config[\"starttime\"], config[\"endtime\"]), edgecolor=\"white\", linewidth=1, label=\"DAS\")\n",
    "plt.hist(iris_catalog[\"time\"], bins=bins//5, range=(config[\"starttime\"], config[\"endtime\"]), edgecolor=\"white\", linewidth=1, alpha=0.8, label=\"IRIS\")\n",
    "# plt.gcf().autofmt_xdate()\n",
    "plt.ylabel(\"Fequency\")\n",
    "plt.xlabel(\"Date\")\n",
    "plt.legend()\n",
    "# set xrange tight\n",
    "plt.xlim(pd.to_datetime(config[\"starttime\"]), pd.to_datetime(config[\"endtime\"]))\n",
    "plt.savefig(\"gamma_time_10Hz.png\", dpi=300, bbox_inches=\"tight\")\n",
    "plt.show()"
   ]
  },
  {
   "cell_type": "code",
   "execution_count": null,
   "metadata": {},
   "outputs": [],
   "source": [
    "fig = plt.figure()\n",
    "ax = fig.add_subplot(1, 1, 1, projection=ccrs.PlateCarree())\n",
    "ax.set_extent([config[\"xlim_degree\"][0]+0.3, config[\"xlim_degree\"][1]-0.3, config[\"ylim_degree\"][0]+0.3, config[\"ylim_degree\"][1]-0.3], crs=ccrs.PlateCarree())\n",
    "\n",
    "ax.add_feature(cfeature.LAND)\n",
    "ax.add_feature(cfeature.OCEAN)\n",
    "ax.add_feature(cfeature.COASTLINE)\n",
    "ax.add_feature(cfeature.BORDERS, linestyle=':')\n",
    "ax.add_feature(cfeature.STATES, linestyle='--')\n",
    "\n",
    "gl = ax.gridlines(draw_labels=True, dms=False, x_inline=False, y_inline=False)\n",
    "gl.xlabels_top = False\n",
    "gl.ylabels_right = False\n",
    "gl.xlines = False\n",
    "gl.ylines = False\n",
    "\n",
    "## add anchor text to the mean of das_info\n",
    "im = ax.scatter(catalog[idx][\"longitude\"], catalog[idx][\"latitude\"], s=2.0, c=\"k\", cmap=\"viridis_r\", marker=\"x\", transform=ccrs.PlateCarree(), label=\"Event\")\n",
    "fig.colorbar(im, ax=ax, label=\"Depth (km)\")\n",
    "\n",
    "im = ax.scatter(das_info[\"longitude\"], das_info[\"latitude\"], s=10, c=\"r\", transform=ccrs.PlateCarree(), label=\"DAS\")\n",
    "\n",
    "# plt.legend()\n",
    "## add zoomin view of the das_info\n",
    "axins = ax.inset_axes([0.7, 0.7, 0.3, 0.3])\n",
    "axins.scatter(das_info[\"longitude\"], das_info[\"latitude\"], s=1, c=\"r\", label=\"DAS\")\n",
    "x1 = das_info[\"longitude\"].min() - 0.005\n",
    "x2 = das_info[\"longitude\"].max() + 0.005\n",
    "y1 = das_info[\"latitude\"].min() - 0.005\n",
    "y2 = das_info[\"latitude\"].max() + 0.005\n",
    "axins.set_xlim(x1, x2)\n",
    "axins.set_ylim(y1, y2)\n",
    "axins.set_xticklabels([])\n",
    "axins.set_yticklabels([])\n",
    "\n",
    "ax.indicate_inset_zoom(axins, edgecolor=\"black\")\n",
    "\n",
    "plt.title(\"DAS Earthquake Catalog\")\n",
    "plt.savefig(\"gamma_catalog_10Hz.png\", dpi=300, bbox_inches=\"tight\")\n",
    "plt.show()"
   ]
  },
  {
   "cell_type": "code",
   "execution_count": null,
   "metadata": {},
   "outputs": [],
   "source": [
    "pick_path = Path(\"../../Hawaii_debug2/picks_phasenet_das_raw/\")\n",
    "pick_files = list(pick_path.glob(\"*.csv\"))[:500]\n",
    "picks = []\n",
    "for pick_file in tqdm(pick_files):\n",
    "    try:\n",
    "        pick_ = pd.read_csv(pick_file, parse_dates=[\"phase_time\"])\n",
    "        pick_ = pick_[pick_[\"phase_index\"] < 178500]\n",
    "        picks.append(pick_)\n",
    "    except:\n",
    "        pass\n",
    "picks = pd.concat(picks)\n",
    "picks.to_csv(\"picks_.csv\", index=False)"
   ]
  },
  {
   "cell_type": "code",
   "execution_count": null,
   "metadata": {},
   "outputs": [],
   "source": [
    "# picks = pd.read_csv(\"picks_.csv\", parse_dates=[\"phase_time\"])"
   ]
  },
  {
   "cell_type": "code",
   "execution_count": null,
   "metadata": {},
   "outputs": [],
   "source": [
    "bins = len(pd.date_range(picks[\"phase_time\"].min(), picks[\"phase_time\"].max(), freq=\"1H\"))\n",
    "colors = picks[\"phase_type\"].map({\"P\": \"red\", \"S\": \"blue\"})\n",
    "idx = (picks[\"phase_type\"] == \"P\")\n",
    "plt.figure(figsize=(bins, 5))\n",
    "# plt.hist(picks[\"phase_time\"], bins=bins)\n",
    "plt.scatter(picks[idx][\"phase_time\"], picks[idx][\"channel_index\"], s=0.1, c=colors[idx], alpha=0.5)\n",
    "plt.gcf().autofmt_xdate()\n",
    "plt.savefig(\"picks_.png\", dpi=300, bbox_inches=\"tight\")\n",
    "plt.show()"
   ]
  },
  {
   "cell_type": "code",
   "execution_count": null,
   "metadata": {},
   "outputs": [],
   "source": []
  },
  {
   "cell_type": "code",
   "execution_count": null,
   "metadata": {},
   "outputs": [],
   "source": [
    "pick_path = Path(\"../../Hawaii/picks_phasenet_das_raw/\")\n",
    "pick_files = list(pick_path.glob(\"*.csv\"))[:500]\n",
    "picks = []\n",
    "for pick_file in tqdm(pick_files):\n",
    "    try:\n",
    "        pick_ = pd.read_csv(pick_file, parse_dates=[\"phase_time\"])\n",
    "        pick_ = pick_[pick_[\"phase_index\"] < 178500]\n",
    "        picks.append(pick_)\n",
    "    except:\n",
    "        pass\n",
    "picks = pd.concat(picks)\n",
    "picks.to_csv(\"picks_.csv\", index=False)"
   ]
  },
  {
   "cell_type": "code",
   "execution_count": null,
   "metadata": {},
   "outputs": [],
   "source": [
    "bins = len(pd.date_range(picks[\"phase_time\"].min(), picks[\"phase_time\"].max(), freq=\"1H\"))\n",
    "colors = picks[\"phase_type\"].map({\"P\": \"red\", \"S\": \"blue\"})\n",
    "idx = (picks[\"phase_type\"] == \"P\")\n",
    "plt.figure(figsize=(bins, 5))\n",
    "# plt.hist(picks[\"phase_time\"], bins=bins)\n",
    "plt.scatter(picks[idx][\"phase_time\"], picks[idx][\"channel_index\"], s=0.1, c=colors[idx], alpha=0.5)\n",
    "plt.gcf().autofmt_xdate()\n",
    "plt.savefig(\"picks_.png\", dpi=300, bbox_inches=\"tight\")\n",
    "plt.show()"
   ]
  },
  {
   "cell_type": "code",
   "execution_count": null,
   "metadata": {},
   "outputs": [],
   "source": [
    "pick_path = Path(\"../../Hawaii_debug2/picks_phasenet_das_raw/\")\n",
    "pick_files = list(pick_path.glob(\"*.csv\"))[:500]\n",
    "picks = []\n",
    "for pick_file in tqdm(pick_files):\n",
    "    try:\n",
    "        pick_ = pd.read_csv(pick_file, parse_dates=[\"phase_time\"])\n",
    "        # pick_ = pick_[pick_[\"phase_index\"] < 178500]\n",
    "        picks.append(pick_)\n",
    "    except Exception as e:\n",
    "        print(e)\n",
    "        pass\n",
    "picks = pd.concat(picks)\n",
    "picks.to_csv(\"picks_.csv\", index=False)"
   ]
  },
  {
   "cell_type": "code",
   "execution_count": null,
   "metadata": {},
   "outputs": [],
   "source": [
    "bins = len(pd.date_range(picks[\"phase_time\"].min(), picks[\"phase_time\"].max(), freq=\"1H\"))\n",
    "colors = picks[\"phase_type\"].map({\"P\": \"red\", \"S\": \"blue\"})\n",
    "idx = (picks[\"phase_type\"] == \"P\")\n",
    "plt.figure(figsize=(bins, 5))\n",
    "# plt.hist(picks[\"phase_time\"], bins=bins)\n",
    "plt.scatter(picks[idx][\"phase_time\"], picks[idx][\"channel_index\"], s=0.1, c=colors[idx], alpha=0.5)\n",
    "plt.gcf().autofmt_xdate()\n",
    "plt.savefig(\"picks_debug.png\", dpi=300, bbox_inches=\"tight\")\n",
    "plt.show()"
   ]
  },
  {
   "cell_type": "code",
   "execution_count": null,
   "metadata": {},
   "outputs": [],
   "source": [
    "bins = len(pd.date_range(picks[\"phase_time\"].min(), picks[\"phase_time\"].max(), freq=\"1H\"))\n",
    "colors = picks[\"phase_type\"].map({\"P\": \"red\", \"S\": \"blue\"})\n",
    "# plt.figure(figsize=(bins/10, 5))\n",
    "plt.figure(figsize=(10, 3))\n",
    "idx = (picks[\"phase_type\"] == \"P\")\n",
    "plt.hist(picks[idx][\"phase_time\"], bins=bins//5, range=(config[\"starttime\"], config[\"endtime\"]), edgecolor=\"white\", linewidth=1, label=\"P picks\")\n",
    "# idx = (picks[\"phase_type\"] == \"S\")\n",
    "# plt.hist(picks[idx][\"phase_time\"], bins=bins//5, range=(config[\"starttime\"], config[\"endtime\"]), edgecolor=\"white\", linewidth=1, label=\"S picks\")\n",
    "plt.legend()\n",
    "plt.ylabel(\"Fequency\")\n",
    "plt.xlim(pd.to_datetime(config[\"starttime\"]), pd.to_datetime(config[\"endtime\"]))\n",
    "plt.savefig(\"picks_hist_.png\", dpi=300, bbox_inches=\"tight\")\n",
    "plt.show()"
   ]
  },
  {
   "cell_type": "code",
   "execution_count": null,
   "metadata": {},
   "outputs": [],
   "source": [
    "# pick_path = Path(\"../../Hawaii_5Hz/picks_phasenet_das_raw/\")\n",
    "# pick_files = list(pick_path.glob(\"*.csv\"))\n",
    "# picks = []\n",
    "# for pick_file in tqdm(pick_files):\n",
    "#     try:\n",
    "#         pick_ = pd.read_csv(pick_file, parse_dates=[\"phase_time\"])\n",
    "#         pick_ = pick_[pick_[\"phase_index\"] < 178500]\n",
    "#         picks.append(pick_)\n",
    "#     except:\n",
    "#         pass\n",
    "# picks = pd.concat(picks)\n",
    "# picks.to_csv(\"picks_5Hz.csv\", index=False)\n"
   ]
  },
  {
   "cell_type": "code",
   "execution_count": null,
   "metadata": {},
   "outputs": [],
   "source": [
    "picks = pd.read_csv(\"picks_5Hz.csv\", parse_dates=[\"phase_time\"])"
   ]
  },
  {
   "cell_type": "code",
   "execution_count": null,
   "metadata": {},
   "outputs": [],
   "source": [
    "bins = len(pd.date_range(picks[\"phase_time\"].min(), picks[\"phase_time\"].max(), freq=\"1H\"))\n",
    "colors = picks[\"phase_type\"].map({\"P\": \"red\", \"S\": \"blue\"})\n",
    "idx = (picks[\"phase_type\"] == \"P\")\n",
    "plt.figure(figsize=(bins/10, 5))\n",
    "plt.scatter(picks[idx][\"phase_time\"], picks[idx][\"channel_index\"], s=0.1, c=colors[idx], alpha=0.5)\n",
    "plt.gcf().autofmt_xdate()\n",
    "plt.ylabel(\"Channel Index\")\n",
    "plt.savefig(\"picks_5Hz.png\", dpi=300, bbox_inches=\"tight\")\n",
    "plt.show()"
   ]
  },
  {
   "cell_type": "code",
   "execution_count": null,
   "metadata": {},
   "outputs": [],
   "source": [
    "bins = len(pd.date_range(picks[\"phase_time\"].min(), picks[\"phase_time\"].max(), freq=\"1H\"))\n",
    "colors = picks[\"phase_type\"].map({\"P\": \"red\", \"S\": \"blue\"})\n",
    "# plt.figure(figsize=(bins/10, 5))\n",
    "plt.figure(figsize=(10, 3))\n",
    "idx = (picks[\"phase_type\"] == \"P\")\n",
    "plt.hist(picks[idx][\"phase_time\"], bins=bins//5, range=(config[\"starttime\"], config[\"endtime\"]), edgecolor=\"white\", linewidth=1, label=\"P picks\")\n",
    "# idx = (picks[\"phase_type\"] == \"S\")\n",
    "# plt.hist(picks[idx][\"phase_time\"], bins=bins//5, range=(config[\"starttime\"], config[\"endtime\"]), edgecolor=\"white\", linewidth=1, label=\"S picks\")\n",
    "plt.legend()\n",
    "plt.ylabel(\"Fequency\")\n",
    "plt.xlim(pd.to_datetime(config[\"starttime\"]), pd.to_datetime(config[\"endtime\"]))\n",
    "plt.savefig(\"picks_hist_5Hz.png\", dpi=300, bbox_inches=\"tight\")\n",
    "plt.show()"
   ]
  },
  {
   "cell_type": "code",
   "execution_count": null,
   "metadata": {},
   "outputs": [],
   "source": [
    "# bins = len(pd.date_range(picks[\"phase_time\"].min(), picks[\"phase_time\"].max(), freq=\"1H\"))\n",
    "# colors = picks[\"phase_type\"].map({\"P\": \"red\", \"S\": \"blue\"})\n",
    "# idx = (picks[\"phase_type\"] == \"P\")\n",
    "# plt.figure(figsize=(bins/5, 5))\n",
    "# plt.scatter(picks[idx][\"phase_time\"], picks[idx][\"channel_index\"], s=0.1, c=colors[idx], alpha=0.5)\n",
    "# plt.gcf().autofmt_xdate()\n",
    "# plt.show()"
   ]
  },
  {
   "cell_type": "code",
   "execution_count": null,
   "metadata": {},
   "outputs": [],
   "source": [
    "# pick_path = Path(\"../../Hawaii_10Hz/picks_phasenet_das_raw/\")\n",
    "# pick_files = list(pick_path.glob(\"*.csv\"))\n",
    "# picks = []\n",
    "# for i, pick_file in enumerate(tqdm(pick_files)):\n",
    "#     try:\n",
    "#         pick_ = pd.read_csv(pick_file, parse_dates=[\"phase_time\"])\n",
    "#         pick_ = pick_[pick_[\"phase_index\"] < 178500]\n",
    "#         picks.append(pick_)\n",
    "#     except:\n",
    "#         pass\n",
    "\n",
    "# picks = pd.concat(picks)\n",
    "# picks.to_csv(\"picks_10Hz.csv\", index=False)"
   ]
  },
  {
   "cell_type": "code",
   "execution_count": null,
   "metadata": {},
   "outputs": [],
   "source": [
    "picks = pd.read_csv(\"picks_10Hz.csv\", parse_dates=[\"phase_time\"])"
   ]
  },
  {
   "cell_type": "code",
   "execution_count": null,
   "metadata": {},
   "outputs": [],
   "source": [
    "bins = len(pd.date_range(picks[\"phase_time\"].min(), picks[\"phase_time\"].max(), freq=\"1H\"))\n",
    "colors = picks[\"phase_type\"].map({\"P\": \"red\", \"S\": \"blue\"})\n",
    "idx = (picks[\"phase_type\"] == \"P\")\n",
    "plt.figure(figsize=(bins/10, 5))\n",
    "plt.scatter(picks[idx][\"phase_time\"], picks[idx][\"channel_index\"], s=0.1, c=colors[idx], alpha=0.5)\n",
    "plt.gcf().autofmt_xdate()\n",
    "plt.ylabel(\"Channel Index\")\n",
    "plt.savefig(\"picks_10Hz.png\", dpi=300, bbox_inches=\"tight\")\n",
    "plt.show()"
   ]
  },
  {
   "cell_type": "code",
   "execution_count": null,
   "metadata": {},
   "outputs": [],
   "source": [
    "bins = len(pd.date_range(picks[\"phase_time\"].min(), picks[\"phase_time\"].max(), freq=\"1H\"))\n",
    "colors = picks[\"phase_type\"].map({\"P\": \"red\", \"S\": \"blue\"})\n",
    "# plt.figure(figsize=(bins/10, 5))\n",
    "plt.figure(figsize=(10, 3))\n",
    "idx = (picks[\"phase_type\"] == \"P\")\n",
    "plt.hist(picks[idx][\"phase_time\"], bins=bins//5, range=(config[\"starttime\"], config[\"endtime\"]), edgecolor=\"white\", linewidth=1, label=\"P picks\")\n",
    "# idx = (picks[\"phase_type\"] == \"S\")\n",
    "# plt.hist(picks[idx][\"phase_time\"], bins=bins//5, range=(config[\"starttime\"], config[\"endtime\"]), edgecolor=\"white\", linewidth=1, label=\"S picks\")\n",
    "plt.legend()\n",
    "plt.ylabel(\"Fequency\")\n",
    "plt.xlim(pd.to_datetime(config[\"starttime\"]), pd.to_datetime(config[\"endtime\"]))\n",
    "plt.savefig(\"picks_hist_10Hz.png\", dpi=300, bbox_inches=\"tight\")\n",
    "plt.show()"
   ]
  },
  {
   "cell_type": "code",
   "execution_count": null,
   "metadata": {},
   "outputs": [],
   "source": [
    "plt.figure()\n",
    "plt.scatter(catalog[idx][\"latitude\"], catalog[idx][\"longitude\"], s=0.1, alpha=0.5)"
   ]
  },
  {
   "cell_type": "code",
   "execution_count": null,
   "metadata": {},
   "outputs": [],
   "source": []
  },
  {
   "cell_type": "code",
   "execution_count": null,
   "metadata": {},
   "outputs": [],
   "source": [
    "catalog[\"time\"].min().isoformat()"
   ]
  },
  {
   "cell_type": "code",
   "execution_count": null,
   "metadata": {},
   "outputs": [],
   "source": [
    "catalog[\"time\"].max()"
   ]
  },
  {
   "cell_type": "code",
   "execution_count": null,
   "metadata": {},
   "outputs": [],
   "source": [
    "plt.figure(figsize=(30, 5))\n",
    "plt.hist(catalog[\"time\"], bins=100)\n",
    "plt.gcf().autofmt_xdate()\n",
    "plt.ylabel(\"Fequency\")\n",
    "plt.savefig(\"iris_time.png\", dpi=300, bbox_inches=\"tight\")\n",
    "plt.show()"
   ]
  },
  {
   "cell_type": "code",
   "execution_count": null,
   "metadata": {},
   "outputs": [],
   "source": [
    "import h5py"
   ]
  },
  {
   "cell_type": "code",
   "execution_count": null,
   "metadata": {},
   "outputs": [],
   "source": [
    "data_path = Path(\"/kuafu/DASdata/Hawaii_desampled/\")\n",
    "h5_files = list(data_path.glob(\"*.h5\"))"
   ]
  },
  {
   "cell_type": "code",
   "execution_count": null,
   "metadata": {},
   "outputs": [],
   "source": [
    "for h5_file in h5_files:\n",
    "    print(h5_file)\n",
    "    with h5py.File(h5_file, \"r\") as fp:\n",
    "        print(fp[\"Data\"].shape)\n",
    "        raw_data = fp[\"Data\"][:]\n",
    "\n",
    "    raise"
   ]
  },
  {
   "cell_type": "code",
   "execution_count": null,
   "metadata": {},
   "outputs": [],
   "source": [
    "data = raw_data.copy()"
   ]
  },
  {
   "cell_type": "code",
   "execution_count": null,
   "metadata": {},
   "outputs": [],
   "source": [
    "# data = data.T\n",
    "data = np.gradient(data, axis=-1)"
   ]
  },
  {
   "cell_type": "code",
   "execution_count": null,
   "metadata": {},
   "outputs": [],
   "source": [
    "data = data - np.mean(data, axis=-1, keepdims=True)\n",
    "data = data / np.std(data, axis=-1, keepdims=True)"
   ]
  },
  {
   "cell_type": "code",
   "execution_count": null,
   "metadata": {},
   "outputs": [],
   "source": [
    "print(data.shape)"
   ]
  },
  {
   "cell_type": "code",
   "execution_count": null,
   "metadata": {},
   "outputs": [],
   "source": [
    "plt.figure()\n",
    "plt.imshow(data[:, 179500:].T, vmin=-1, vmax=1, aspect=\"auto\", cmap=\"seismic\")\n",
    "plt.colorbar()\n",
    "plt.show()"
   ]
  },
  {
   "cell_type": "code",
   "execution_count": null,
   "metadata": {},
   "outputs": [],
   "source": []
  }
 ],
 "metadata": {
  "kernelspec": {
   "display_name": "Python 3",
   "language": "python",
   "name": "python3"
  },
  "language_info": {
   "codemirror_mode": {
    "name": "ipython",
    "version": 3
   },
   "file_extension": ".py",
   "mimetype": "text/x-python",
   "name": "python",
   "nbconvert_exporter": "python",
   "pygments_lexer": "ipython3",
   "version": "3.9.12"
  },
  "orig_nbformat": 4,
  "vscode": {
   "interpreter": {
    "hash": "1e3ae49100bc7694f1c7d98e39f0272018f86c032b21977f10382ed6f4dfda00"
   }
  }
 },
 "nbformat": 4,
 "nbformat_minor": 2
}
