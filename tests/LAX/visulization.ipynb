{
 "cells": [
  {
   "cell_type": "code",
   "execution_count": null,
   "metadata": {},
   "outputs": [],
   "source": [
    "from pathlib import Path\n",
    "from tqdm.auto import tqdm\n",
    "import pandas as pd\n",
    "import io\n",
    "import matplotlib.pyplot as plt\n",
    "import obspy\n",
    "from obspy.clients.fdsn.client import Client\n",
    "from obspy import UTCDateTime\n",
    "import re\n",
    "import numpy as np\n",
    "import cartopy.crs as ccrs\n",
    "import cartopy.io.img_tiles as cimgt\n",
    "import seaborn as sns\n",
    "import json\n",
    "from collections import defaultdict"
   ]
  },
  {
   "cell_type": "code",
   "execution_count": null,
   "metadata": {},
   "outputs": [],
   "source": [
    "figure_path = Path(\"figures\")\n",
    "if not figure_path.exists():\n",
    "    figure_path.mkdir()\n",
    "result_path = Path(\"results\")\n",
    "if not result_path.exists():\n",
    "    result_path.mkdir()"
   ]
  },
  {
   "attachments": {},
   "cell_type": "markdown",
   "metadata": {},
   "source": [
    "## DAS Location"
   ]
  },
  {
   "cell_type": "code",
   "execution_count": null,
   "metadata": {},
   "outputs": [],
   "source": [
    "das_location = pd.read_csv(\"DAS-LAX_coor_tap_test.csv\")\n",
    "maxradius = 2.0\n",
    "minlongitude = das_location[\"longitude\"].min() - maxradius\n",
    "maxlongitude = das_location[\"longitude\"].max() + maxradius\n",
    "minlatitude = das_location[\"latitude\"].min() - maxradius\n",
    "maxlatitude = das_location[\"latitude\"].max() + maxradius\n"
   ]
  },
  {
   "cell_type": "code",
   "execution_count": null,
   "metadata": {},
   "outputs": [],
   "source": [
    "plt.figure(figsize=(8, 8))\n",
    "ax = plt.axes(projection=ccrs.PlateCarree())\n",
    "ax.coastlines(resolution=\"10m\", color=\"gray\", linewidth=0.5)\n",
    "terrain = cimgt.Stamen(\"terrain-background\")\n",
    "ax.add_image(terrain, 10)\n",
    "gl = ax.gridlines(crs=ccrs.PlateCarree(), draw_labels=True, linewidth=0.5, color=\"gray\", alpha=0.5, linestyle=\"--\")\n",
    "gl.top_labels = False\n",
    "gl.right_labels = False\n",
    "ax.set_extent(\n",
    "    [\n",
    "        das_location[\"longitude\"].min() - 0.5,\n",
    "        das_location[\"longitude\"].max() + 0.5,\n",
    "        das_location[\"latitude\"].min() - 0.5,\n",
    "        das_location[\"latitude\"].max() + 0.5,\n",
    "    ]\n",
    ")\n",
    "ax.scatter(das_location[\"longitude\"], das_location[\"latitude\"], s=1, transform=ccrs.PlateCarree(), label=\"LAX DAS\")\n",
    "ax.legend()\n",
    "plt.savefig(figure_path / \"das_location.png\", dpi=300)\n",
    "plt.show()"
   ]
  },
  {
   "attachments": {},
   "cell_type": "markdown",
   "metadata": {},
   "source": [
    "## PhaseNet Picks"
   ]
  },
  {
   "cell_type": "code",
   "execution_count": null,
   "metadata": {},
   "outputs": [],
   "source": [
    "pick_path = Path(\"picks_phasenet_das_raw\")"
   ]
  },
  {
   "cell_type": "code",
   "execution_count": null,
   "metadata": {},
   "outputs": [],
   "source": [
    "if not (result_path / \"picks.csv\").exists():\n",
    "    picks = []\n",
    "\n",
    "    for f in tqdm(sorted(list(pick_path.glob(\"*.csv\")))):\n",
    "        with open(f, \"r\") as fp:\n",
    "            lines = fp.readlines()\n",
    "\n",
    "        if len(lines) > 1:\n",
    "            picks.append(pd.read_csv(io.StringIO(\"\".join(lines))))\n",
    "\n",
    "    picks = pd.concat(picks)\n",
    "    picks[\"phase_time\"] = pd.to_datetime(picks[\"phase_time\"], utc=True)\n",
    "    picks.to_csv(result_path / \"picks.csv\", index=False)\n",
    "\n",
    "else:\n",
    "    # picks = pd.read_csv(result_path / \"picks.csv\", parse_dates=[\"phase_time\"])\n",
    "    \n",
    "    picks = pd.read_csv(result_path / \"picks_0.6.csv\", parse_dates=[\"phase_time\"])\n",
    "    # picks = picks[picks[\"phase_score\"] > 0.6]\n",
    "    # picks.to_csv(result_path / \"picks_0.6.csv\", index=False)"
   ]
  },
  {
   "attachments": {},
   "cell_type": "markdown",
   "metadata": {},
   "source": [
    "## Catalog"
   ]
  },
  {
   "cell_type": "code",
   "execution_count": null,
   "metadata": {},
   "outputs": [],
   "source": [
    "if not (result_path / \"events.csv\").exists():\n",
    "    client = Client(\"USGS\")\n",
    "\n",
    "    if not (result_path / \"catalog.xml\").exists():\n",
    "        catalog = client.get_events(\n",
    "            starttime=UTCDateTime(picks[\"phase_time\"].min()),\n",
    "            endtime=UTCDateTime(picks[\"phase_time\"].max()),\n",
    "            latitude=das_location[\"latitude\"].mean(),\n",
    "            longitude=das_location[\"longitude\"].mean(),\n",
    "            minradius=0,\n",
    "            maxradius=2,\n",
    "            limit=20000,\n",
    "        )\n",
    "        catalog.write(result_path / \"catalog.xml\", format=\"QUAKEML\")\n",
    "\n",
    "    else:\n",
    "        catalog = obspy.read_events(result_path / \"catalog.xml\")\n",
    "\n",
    "    print(f\"{len(catalog) = }\")"
   ]
  },
  {
   "cell_type": "code",
   "execution_count": null,
   "metadata": {},
   "outputs": [],
   "source": [
    "def parase_catalog(catalog):\n",
    "    events = {}\n",
    "    for event in catalog:\n",
    "        event_id = re.search(r\"eventid=([a-z]+)(\\d+)\", event.resource_id.id).group(0).split(\"=\")[1]\n",
    "        events[event_id] = {\n",
    "            \"time\": event.origins[0].time,\n",
    "            \"magnitude\": event.magnitudes[0].mag,\n",
    "            \"latitude\": event.origins[0].latitude,\n",
    "            \"longitude\": event.origins[0].longitude,\n",
    "            \"depth_km\": event.origins[0].depth / 1000,\n",
    "        }\n",
    "\n",
    "    return events\n",
    "\n",
    "\n",
    "if not (result_path / \"events.csv\").exists():\n",
    "    events = parase_catalog(catalog)\n",
    "    events = pd.DataFrame.from_dict(events, orient=\"index\")\n",
    "    events[\"time\"] = pd.to_datetime(events[\"time\"], utc=True, format=\"%Y-%m-%dT%H:%M:%S.%fZ\")\n",
    "    events[\"distance_km\"] = events.apply(\n",
    "        lambda x: obspy.geodetics.base.gps2dist_azimuth(\n",
    "            x.latitude, x.longitude, das_location[\"latitude\"].mean(), das_location[\"longitude\"].mean()\n",
    "        )[0]\n",
    "        / 1e3,\n",
    "        axis=1,\n",
    "    )\n",
    "    events.to_csv(result_path / \"events.csv\", index_label=\"event_id\")\n",
    "else:\n",
    "    events = pd.read_csv(result_path / \"events.csv\", parse_dates=[\"time\"], index_col=\"event_id\")"
   ]
  },
  {
   "attachments": {},
   "cell_type": "markdown",
   "metadata": {},
   "source": [
    "## DAS detactable events"
   ]
  },
  {
   "cell_type": "code",
   "execution_count": null,
   "metadata": {},
   "outputs": [],
   "source": [
    "def calc_detectable_distance(magnitudes):\n",
    "    scaling = {\n",
    "        # \"detectable_amplitude\": -1.9,\n",
    "        \"detectable_amplitude\": -1,\n",
    "        # \"detectable_amplitude\": 0.0,\n",
    "        \"mean_site_term_S\": 0.4,\n",
    "        \"mean_site_term_P\": 0.4,\n",
    "    }\n",
    "    M_coef = (0.437, 0.69)\n",
    "    D_coef = (-1.2693, -1.5875)\n",
    "\n",
    "    detectable_amplitude = 10 ** scaling[\"detectable_amplitude\"]\n",
    "    mean_site_term_P = 10 ** scaling[\"mean_site_term_P\"]\n",
    "    mean_site_term_S = 10 ** scaling[\"mean_site_term_S\"]\n",
    "\n",
    "    \n",
    "\n",
    "    D_sense_P = 10 ** (\n",
    "        (-magnitudes * M_coef[0] + (np.log10(detectable_amplitude) - np.log10(mean_site_term_P))) / D_coef[0]\n",
    "    )\n",
    "    D_sense_S = 10 ** (\n",
    "        (-magnitudes * M_coef[1] + (np.log10(detectable_amplitude) - np.log10(mean_site_term_S))) / D_coef[1]\n",
    "    )\n",
    "\n",
    "    return D_sense_S\n",
    "\n",
    "detectable_distance_km = calc_detectable_distance(events[\"magnitude\"].values)\n",
    "events[\"detectable_distance_km\"] = detectable_distance_km\n"
   ]
  },
  {
   "cell_type": "code",
   "execution_count": null,
   "metadata": {},
   "outputs": [],
   "source": [
    "plt.figure()\n",
    "# plt.plot(events[\"magnitude\"], events[\"distance_km\"], \".\", markersize=1)\n",
    "\n",
    "idx = (events[\"detectable_distance_km\"] > events[\"distance_km\"])\n",
    "plt.plot(events[idx][\"magnitude\"], events[idx][\"distance_km\"], \".\", color=\"red\", markersize=1)\n",
    "plt.plot(events[~idx][\"magnitude\"], events[~idx][\"distance_km\"], \".\", color=\"gray\", markersize=1)\n",
    "\n",
    "# plt.plot(events[\"magnitude\"], detectable_distance_km, \".\", color=\"k\", label=\"S\")\n",
    "xlim = plt.xlim()\n",
    "plt.plot(np.arange(xlim[0], xlim[1], 0.1), calc_detectable_distance(np.arange(xlim[0], xlim[1], 0.1)), \"--\", color=\"C0\")\n",
    "\n",
    "plt.ylim([0, events[\"distance_km\"].max()])\n",
    "plt.xlabel(\"Magnitude\")\n",
    "plt.ylabel(\"Distance (km)\")\n",
    "# plt.legend()\n",
    "plt.savefig(figure_path / \"detectable_distance_km.png\", dpi=300, bbox_inches=\"tight\")\n",
    "plt.show()"
   ]
  },
  {
   "cell_type": "code",
   "execution_count": null,
   "metadata": {},
   "outputs": [],
   "source": [
    "plt.figure(figsize=(8, 8))\n",
    "ax = plt.axes(projection=ccrs.PlateCarree())\n",
    "ax.set_extent([minlongitude, maxlongitude, minlatitude, maxlatitude], crs=ccrs.PlateCarree())\n",
    "terrain = cimgt.Stamen(\"terrain-background\")\n",
    "ax.add_image(terrain, 10, alpha=0.4)\n",
    "ax.coastlines(resolution=\"10m\", color=\"gray\", linewidth=0.5)\n",
    "gl = ax.gridlines(crs=ccrs.PlateCarree(), draw_labels=True, linewidth=0.5, color=\"gray\", alpha=0.5, linestyle=\"--\")\n",
    "gl.top_labels = False\n",
    "gl.right_labels = False\n",
    "\n",
    "ax.scatter(\n",
    "    events[\"longitude\"],\n",
    "    events[\"latitude\"],\n",
    "    s=3 ** events[\"magnitude\"],\n",
    "    alpha=0.5,\n",
    "    color=\"gray\",\n",
    "    transform=ccrs.PlateCarree(),\n",
    "    label=\"SCSN catalog\"\n",
    ")\n",
    "idx = (events[\"detectable_distance_km\"] > events[\"distance_km\"])\n",
    "ax.scatter(\n",
    "    events[idx][\"longitude\"],\n",
    "    events[idx][\"latitude\"],\n",
    "    s=3 ** events[idx][\"magnitude\"],\n",
    "    alpha=0.5,\n",
    "    color=\"C3\",\n",
    "    transform=ccrs.PlateCarree(),\n",
    "    label=\"Detectable events\",\n",
    ")\n",
    "ax.scatter(das_location[\"longitude\"], das_location[\"latitude\"], s=3, transform=ccrs.PlateCarree(), label=\"LAX DAS\")\n",
    "\n",
    "ax.legend()\n",
    "plt.savefig(figure_path / \"catalog.png\", dpi=300, bbox_inches=\"tight\")\n",
    "plt.show()"
   ]
  },
  {
   "attachments": {},
   "cell_type": "markdown",
   "metadata": {},
   "source": [
    "## PhaseNet picks"
   ]
  },
  {
   "cell_type": "code",
   "execution_count": null,
   "metadata": {},
   "outputs": [],
   "source": [
    "plt.figure(figsize=(20, 5))\n",
    "\n",
    "# x = pd.date_range(events[\"time\"].min(), events[\"time\"].max(), freq=\"1H\")\n",
    "# x = x.tz_convert(\"America/Los_Angeles\")\n",
    "# x_hour = x.hour\n",
    "# y = np.array([das_location[\"channel\"].max(), das_location[\"channel\"].max()+500])\n",
    "# x_hour, y = np.meshgrid(x_hour, y)\n",
    "# z = - np.sin(2 * np.pi * x_hour/23)\n",
    "# plt.pcolormesh(x, y, z, cmap=\"gray\", shading=\"gouraud\", alpha=0.05, rasterized=True)\n",
    "\n",
    "idx = (events[\"detectable_distance_km\"] > events[\"distance_km\"])\n",
    "plt.vlines(events[idx][\"time\"], das_location[\"channel\"].max(), das_location[\"channel\"].max()+500, color=\"k\", alpha=0.5, linewidth=1.0, label=\"SCSN catalog\", rasterized=True)\n",
    "\n",
    "\n",
    "idx = (picks[\"phase_type\"] == \"P\") & (picks[\"phase_score\"] > 0.8)\n",
    "plt.plot(picks[\"phase_time\"][idx].iloc[::30], picks[\"channel_index\"][idx].iloc[::30], \".\", color=\"C3\", alpha=1.0, markersize=1.0, linewidth=0.0, label=\"P picks\", rasterized=True)\n",
    "\n",
    "idx = (picks[\"phase_type\"] == \"S\") & (picks[\"phase_score\"] > 0.8)\n",
    "plt.plot(picks[\"phase_time\"][idx].iloc[::30], picks[\"channel_index\"][idx].iloc[::30], \".\", color=\"C0\", alpha=1.0, markersize=1.0, linewidth=0.0, label=\"S picks\", rasterized=True)\n",
    "\n",
    "plt.xlabel(\"Time\")\n",
    "plt.ylabel(\"Channel index\")\n",
    "\n",
    "plt.legend(loc=\"lower right\")\n",
    "plt.autoscale(enable=True, axis='x', tight=True)\n",
    "plt.savefig(figure_path / \"picks.png\", dpi=300, bbox_inches=\"tight\")\n",
    "\n",
    "plt.show()"
   ]
  },
  {
   "cell_type": "code",
   "execution_count": null,
   "metadata": {},
   "outputs": [],
   "source": [
    "gamma_catalog = pd.read_csv(\"catalog_gamma.csv\")\n",
    "gamma_catalog[\"time\"] = pd.to_datetime(gamma_catalog[\"time\"], utc=True)"
   ]
  },
  {
   "cell_type": "code",
   "execution_count": null,
   "metadata": {},
   "outputs": [],
   "source": [
    "plt.figure(figsize=(8, 8))\n",
    "ax = plt.axes(projection=ccrs.PlateCarree())\n",
    "ax.set_extent([minlongitude, maxlongitude, minlatitude, maxlatitude], crs=ccrs.PlateCarree())\n",
    "terrain = cimgt.Stamen(\"terrain-background\")\n",
    "ax.add_image(terrain, 10, alpha=0.4)\n",
    "ax.coastlines(resolution=\"10m\", color=\"gray\", linewidth=0.5)\n",
    "gl = ax.gridlines(crs=ccrs.PlateCarree(), draw_labels=True, linewidth=0.5, color=\"gray\", alpha=0.5, linestyle=\"--\")\n",
    "gl.top_labels = False\n",
    "gl.right_labels = False\n",
    "\n",
    "ax.scatter(\n",
    "    gamma_catalog[\"longitude\"],\n",
    "    gamma_catalog[\"latitude\"],\n",
    "    s=5,\n",
    "    alpha=0.5,\n",
    "    color=\"C3\",\n",
    "    transform=ccrs.PlateCarree(),\n",
    "    label=\"GaMMA catalog\",\n",
    ")\n",
    "ax.scatter(das_location[\"longitude\"], das_location[\"latitude\"], s=3, transform=ccrs.PlateCarree(), label=\"LAX DAS\")\n",
    "\n",
    "ax.legend()\n",
    "plt.savefig(figure_path / \"gamma_catalog.png\", dpi=300, bbox_inches=\"tight\")\n",
    "plt.show()"
   ]
  },
  {
   "cell_type": "code",
   "execution_count": null,
   "metadata": {},
   "outputs": [],
   "source": [
    "plt.figure(figsize=(8, 8))\n",
    "ax = plt.axes(projection=ccrs.PlateCarree())\n",
    "ax.set_extent(\n",
    "    [\n",
    "        das_location[\"longitude\"].min() - 0.2,\n",
    "        das_location[\"longitude\"].max() + 0.2,\n",
    "        das_location[\"latitude\"].min() - 0.2,\n",
    "        das_location[\"latitude\"].max() + 0.2,\n",
    "    ]\n",
    ")\n",
    "terrain = cimgt.Stamen(\"terrain-background\")\n",
    "ax.add_image(terrain, 10, alpha=0.4)\n",
    "ax.coastlines(resolution=\"10m\", color=\"gray\", linewidth=0.5)\n",
    "gl = ax.gridlines(crs=ccrs.PlateCarree(), draw_labels=True, linewidth=0.5, color=\"gray\", alpha=0.5, linestyle=\"--\")\n",
    "gl.top_labels = False\n",
    "gl.right_labels = False\n",
    "\n",
    "ax.scatter(\n",
    "    gamma_catalog[\"longitude\"],\n",
    "    gamma_catalog[\"latitude\"],\n",
    "    s=1,\n",
    "    alpha=0.5,\n",
    "    color=\"C3\",\n",
    "    transform=ccrs.PlateCarree(),\n",
    "    label=\"GaMMA catalog\",\n",
    ")\n",
    "ax.scatter(das_location[\"longitude\"], das_location[\"latitude\"], s=3, transform=ccrs.PlateCarree(), label=\"LAX DAS\")\n",
    "\n",
    "ax.legend()\n",
    "plt.savefig(figure_path / \"gamma_catalog_zoomin.png\", dpi=300, bbox_inches=\"tight\")\n",
    "plt.show()"
   ]
  },
  {
   "cell_type": "code",
   "execution_count": null,
   "metadata": {},
   "outputs": [],
   "source": [
    "idx = (events[\"detectable_distance_km\"] > events[\"distance_km\"])\n",
    "true_events = events[idx]\n",
    "diff = true_events[\"time\"].to_numpy()[None, :] - gamma_catalog[\"time\"].to_numpy()[:, None]\n",
    "recall_events = true_events[(np.abs(diff) < np.timedelta64(15, 's')).any(axis=0)]\n",
    "# recall_events = true_events[(np.abs(diff) < np.timedelta64(30, 's')).any(axis=0)]"
   ]
  },
  {
   "cell_type": "code",
   "execution_count": null,
   "metadata": {},
   "outputs": [],
   "source": [
    "plt.figure(figsize=(8, 8))\n",
    "ax = plt.axes(projection=ccrs.PlateCarree())\n",
    "ax.set_extent([minlongitude, maxlongitude, minlatitude, maxlatitude], crs=ccrs.PlateCarree())\n",
    "terrain = cimgt.Stamen(\"terrain-background\")\n",
    "ax.add_image(terrain, 10, alpha=0.4)\n",
    "ax.coastlines(resolution=\"10m\", color=\"gray\", linewidth=0.5)\n",
    "gl = ax.gridlines(crs=ccrs.PlateCarree(), draw_labels=True, linewidth=0.5, color=\"gray\", alpha=0.5, linestyle=\"--\")\n",
    "gl.top_labels = False\n",
    "gl.right_labels = False\n",
    "\n",
    "idx = (events[\"detectable_distance_km\"] > events[\"distance_km\"])\n",
    "ax.scatter(\n",
    "    events[idx][\"longitude\"],\n",
    "    events[idx][\"latitude\"],\n",
    "    s=3 ** events[idx][\"magnitude\"],\n",
    "    alpha=0.5,\n",
    "    color=\"gray\",\n",
    "    transform=ccrs.PlateCarree(),\n",
    "    label=\"Catalog events\",\n",
    ")\n",
    "\n",
    "ax.scatter(\n",
    "    recall_events[\"longitude\"],\n",
    "    recall_events[\"latitude\"],\n",
    "    s=3 ** recall_events[\"magnitude\"],\n",
    "    alpha=0.5,\n",
    "    color=\"C3\",\n",
    "    transform=ccrs.PlateCarree(),\n",
    "    label=\"Detected events\",\n",
    ")\n",
    "\n",
    "ax.scatter(das_location[\"longitude\"], das_location[\"latitude\"], s=3, transform=ccrs.PlateCarree(), label=\"LAX DAS\")\n",
    "\n",
    "ax.legend()\n",
    "plt.savefig(figure_path / \"catalog_recall.png\", dpi=300, bbox_inches=\"tight\")\n",
    "plt.show()"
   ]
  },
  {
   "cell_type": "code",
   "execution_count": null,
   "metadata": {},
   "outputs": [],
   "source": [
    "plt.figure(figsize=(8, 8))\n",
    "ax = plt.axes(projection=ccrs.PlateCarree())\n",
    "ax.set_extent(\n",
    "    [\n",
    "        das_location[\"longitude\"].min() - 0.2,\n",
    "        das_location[\"longitude\"].max() + 0.2,\n",
    "        das_location[\"latitude\"].min() - 0.2,\n",
    "        das_location[\"latitude\"].max() + 0.2,\n",
    "    ]\n",
    ")\n",
    "terrain = cimgt.Stamen(\"terrain-background\")\n",
    "ax.add_image(terrain, 10, alpha=0.4)\n",
    "ax.coastlines(resolution=\"10m\", color=\"gray\", linewidth=0.5)\n",
    "gl = ax.gridlines(crs=ccrs.PlateCarree(), draw_labels=True, linewidth=0.5, color=\"gray\", alpha=0.5, linestyle=\"--\")\n",
    "gl.top_labels = False\n",
    "gl.right_labels = False\n",
    "\n",
    "idx = (events[\"detectable_distance_km\"] > events[\"distance_km\"])\n",
    "ax.scatter(\n",
    "    events[idx][\"longitude\"],\n",
    "    events[idx][\"latitude\"],\n",
    "    s=5 ** events[idx][\"magnitude\"],\n",
    "    alpha=0.5,\n",
    "    color=\"gray\",\n",
    "    transform=ccrs.PlateCarree(),\n",
    "    label=\"Catalog events\",\n",
    ")\n",
    "\n",
    "ax.scatter(\n",
    "    recall_events[\"longitude\"],\n",
    "    recall_events[\"latitude\"],\n",
    "    s=5 ** recall_events[\"magnitude\"],\n",
    "    alpha=0.5,\n",
    "    color=\"C3\",\n",
    "    transform=ccrs.PlateCarree(),\n",
    "    label=\"Detected events\",\n",
    ")\n",
    "\n",
    "ax.scatter(das_location[\"longitude\"], das_location[\"latitude\"], s=3, transform=ccrs.PlateCarree(), label=\"LAX DAS\")\n",
    "\n",
    "# scale legend\n",
    "ax.legend(markerscale=0.5)\n",
    "plt.savefig(figure_path / \"catalog_recall_zoomin.png\", dpi=300, bbox_inches=\"tight\")\n",
    "plt.show()"
   ]
  },
  {
   "cell_type": "code",
   "execution_count": null,
   "metadata": {},
   "outputs": [],
   "source": [
    "gamma_picks = []\n",
    "for pick in tqdm(sorted(list(Path(\"gamma\").glob(\"*.csv\")))):\n",
    "    tmp = pd.read_csv(pick)\n",
    "    tmp[\"file_id\"] = pick.stem\n",
    "    gamma_picks.append(tmp)\n",
    "gamma_picks = pd.concat(gamma_picks)"
   ]
  },
  {
   "cell_type": "code",
   "execution_count": null,
   "metadata": {},
   "outputs": [],
   "source": [
    "gamma_picks.to_csv(result_path / \"gamma_picks.csv\", index=False)"
   ]
  },
  {
   "cell_type": "code",
   "execution_count": null,
   "metadata": {},
   "outputs": [],
   "source": [
    "gamma_picks[\"phase_time\"] = pd.to_datetime(gamma_picks[\"phase_time\"], utc=True)"
   ]
  },
  {
   "cell_type": "code",
   "execution_count": null,
   "metadata": {},
   "outputs": [],
   "source": [
    "plt.figure(figsize=(20, 5))\n",
    "\n",
    "# x = pd.date_range(events[\"time\"].min(), events[\"time\"].max(), freq=\"1H\")\n",
    "# x = x.tz_convert(\"America/Los_Angeles\")\n",
    "# x_hour = x.hour\n",
    "# y = np.array([das_location[\"channel\"].max(), das_location[\"channel\"].max()+500])\n",
    "# x_hour, y = np.meshgrid(x_hour, y)\n",
    "# z = - np.sin(2 * np.pi * x_hour/23)\n",
    "# plt.pcolormesh(x, y, z, cmap=\"gray\", shading=\"gouraud\", alpha=0.05, rasterized=True)\n",
    "\n",
    "idx = (events[\"detectable_distance_km\"] > events[\"distance_km\"])\n",
    "plt.vlines(events[idx][\"time\"], das_location[\"channel\"].max(), das_location[\"channel\"].max()+500, color=\"k\", alpha=0.5, linewidth=1.0, label=\"SCSN catalog\", rasterized=True)\n",
    "\n",
    "\n",
    "idx = (gamma_picks[\"phase_type\"] == \"P\")\n",
    "plt.plot(gamma_picks[\"phase_time\"][idx].iloc[::30], gamma_picks[\"channel_index\"][idx].iloc[::30], \".\", color=\"C3\", alpha=1.0, markersize=1.0, linewidth=0.0, label=\"P picks\", rasterized=True)\n",
    "\n",
    "idx = (gamma_picks[\"phase_type\"] == \"S\")\n",
    "plt.plot(gamma_picks[\"phase_time\"][idx].iloc[::30], gamma_picks[\"channel_index\"][idx].iloc[::30], \".\", color=\"C0\", alpha=1.0, markersize=1.0, linewidth=0.0, label=\"S picks\", rasterized=True)\n",
    "\n",
    "plt.xlabel(\"Time\")\n",
    "plt.ylabel(\"Channel index\")\n",
    "\n",
    "plt.legend(loc=\"lower right\")\n",
    "plt.autoscale(enable=True, axis='x', tight=True)\n",
    "plt.savefig(figure_path / \"gamma_picks.png\", dpi=300, bbox_inches=\"tight\")\n",
    "\n",
    "plt.show()"
   ]
  },
  {
   "cell_type": "code",
   "execution_count": null,
   "metadata": {},
   "outputs": [],
   "source": []
  },
  {
   "cell_type": "code",
   "execution_count": null,
   "metadata": {},
   "outputs": [],
   "source": [
    "def parse_inventory(inventory, mseed_ids=None):\n",
    "    stations = {}\n",
    "    num = 0\n",
    "    for net in inventory:\n",
    "        for sta in net:\n",
    "            components = defaultdict(list)\n",
    "            channel = {}\n",
    "\n",
    "            for chn in sta:\n",
    "                key = f\"{chn.location_code}{chn.code[:-1]}\"\n",
    "                components[key].append(chn.code[-1])\n",
    "\n",
    "                if key not in channel:\n",
    "                    channel[key] = {\n",
    "                        \"latitude\": chn.latitude,\n",
    "                        \"longitude\": chn.longitude,\n",
    "                        \"elevation_m\": chn.elevation,\n",
    "                        \"location\": chn.location_code,\n",
    "                        \"device\": chn.code[:-1],\n",
    "                    }\n",
    "\n",
    "            for key in components:\n",
    "                station_id = f\"{net.code}.{sta.code}.{channel[key]['location']}.{channel[key]['device']}\"\n",
    "                if (mseed_ids is not None) and (station_id not in mseed_ids):\n",
    "                    continue\n",
    "                num += 1\n",
    "                stations[station_id] = {\n",
    "                    \"network\": net.code,\n",
    "                    \"station\": sta.code,\n",
    "                    \"location\": channel[key][\"location\"],\n",
    "                    \"component\": sorted(components[key]),\n",
    "                    \"latitude\": channel[key][\"latitude\"],\n",
    "                    \"longitude\": channel[key][\"longitude\"],\n",
    "                    \"elevation_m\": channel[key][\"elevation_m\"],\n",
    "                    \"depth_km\": - channel[key][\"elevation_m\"] / 1e3,\n",
    "                }\n",
    "                \n",
    "    print(f\"Parse {num} stations\")\n",
    "\n",
    "    return stations"
   ]
  },
  {
   "cell_type": "code",
   "execution_count": null,
   "metadata": {},
   "outputs": [],
   "source": [
    "client = Client(\"SCEDC\")\n",
    "inventory = client.get_stations(\n",
    "    starttime=UTCDateTime(picks[\"phase_time\"].min()),\n",
    "    endtime=UTCDateTime(picks[\"phase_time\"].max()),\n",
    "    latitude=das_location[\"latitude\"].mean(),\n",
    "    longitude=das_location[\"longitude\"].mean(),\n",
    "    minradius=0,\n",
    "    maxradius=2,\n",
    "    level=\"channel\",\n",
    ")\n",
    "inventory.write(result_path / \"inventory.xml\", format=\"STATIONXML\") "
   ]
  },
  {
   "cell_type": "code",
   "execution_count": null,
   "metadata": {},
   "outputs": [],
   "source": [
    "stations = parse_inventory(inventory)"
   ]
  },
  {
   "cell_type": "code",
   "execution_count": null,
   "metadata": {},
   "outputs": [],
   "source": [
    "stations = parse_inventory(inventory)\n",
    "with open(result_path / \"stations.json\", \"w\") as f:\n",
    "    json.dump(stations, f, indent=4)\n",
    "stations = pd.DataFrame.from_dict(stations, orient=\"index\")\n",
    "stations.to_csv(result_path / \"stations.csv\", index_label=\"station_id\")"
   ]
  },
  {
   "cell_type": "code",
   "execution_count": null,
   "metadata": {},
   "outputs": [],
   "source": [
    "plt.figure(figsize=(8, 8))\n",
    "ax = plt.axes(projection=ccrs.PlateCarree())\n",
    "ax.coastlines(resolution=\"10m\", color=\"gray\", linewidth=0.5)\n",
    "terrain = cimgt.Stamen(\"terrain-background\")\n",
    "ax.add_image(terrain, 10)\n",
    "gl = ax.gridlines(crs=ccrs.PlateCarree(), draw_labels=True, linewidth=0.5, color=\"gray\", alpha=0.5, linestyle=\"--\")\n",
    "gl.top_labels = False\n",
    "gl.right_labels = False\n",
    "ax.set_extent(\n",
    "    [\n",
    "        das_location[\"longitude\"].min() - 0.5,\n",
    "        das_location[\"longitude\"].max() + 0.5,\n",
    "        das_location[\"latitude\"].min() - 0.5,\n",
    "        das_location[\"latitude\"].max() + 0.5,\n",
    "    ]\n",
    ")\n",
    "ax.scatter(stations[\"longitude\"], stations[\"latitude\"], s=15, marker=\"^\", transform=ccrs.PlateCarree(), label=\"Seismometer\")\n",
    "ax.legend()\n",
    "plt.savefig(figure_path / \"seismic_network.png\", dpi=300)\n",
    "plt.show()"
   ]
  },
  {
   "cell_type": "code",
   "execution_count": null,
   "metadata": {},
   "outputs": [],
   "source": [
    "raise"
   ]
  },
  {
   "attachments": {},
   "cell_type": "markdown",
   "metadata": {},
   "source": [
    "## Save picks by day"
   ]
  },
  {
   "cell_type": "code",
   "execution_count": null,
   "metadata": {},
   "outputs": [],
   "source": [
    "output_dir = Path(\"picks_by_day\")\n",
    "if not output_dir.exists():\n",
    "    output_dir.mkdir()"
   ]
  },
  {
   "cell_type": "code",
   "execution_count": null,
   "metadata": {},
   "outputs": [],
   "source": [
    "# for i in pd.date_range(events[\"time\"].min(), events[\"time\"].max(), freq=\"1D\")\n",
    "\n",
    "# group picks by day\n",
    "picks[\"day\"] = picks[\"phase_time\"].dt.date\n",
    "\n",
    "# group picks by day and save to separate csv files\n",
    "for day, group in tqdm(picks.groupby(\"day\")):\n",
    "    group.to_csv(output_dir / f\"picks_{day}.csv\", index=False)\n"
   ]
  },
  {
   "cell_type": "code",
   "execution_count": null,
   "metadata": {},
   "outputs": [],
   "source": [
    "picks[\"day\"]"
   ]
  },
  {
   "cell_type": "code",
   "execution_count": null,
   "metadata": {},
   "outputs": [],
   "source": [
    "plt.figure(figsize=(50, 10))\n",
    "\n",
    "x = pd.date_range(events[\"time\"].min(), events[\"time\"].max(), freq=\"1H\")\n",
    "x = x.tz_convert(\"America/Los_Angeles\")\n",
    "x_hour = x.hour\n",
    "y = np.array([das_location[\"channel\"].max(), das_location[\"channel\"].max()+500])\n",
    "x_hour, y = np.meshgrid(x_hour, y)\n",
    "z = - np.sin(2 * np.pi * x_hour/23)\n",
    "plt.pcolormesh(x, y, z, cmap=\"gray\", shading=\"gouraud\", alpha=0.05, rasterized=True)\n",
    "\n",
    "idx = (events[\"detectable_distance_km\"] > events[\"distance_km\"])\n",
    "plt.vlines(events[idx][\"time\"], das_location[\"channel\"].max(), das_location[\"channel\"].max()+500, color=\"C2\", alpha=1.0, linewidth=1)\n",
    "\n",
    "## color the background based based on events[\"time\"] to indicate day/night\n",
    "t = pd.date_range(events[\"time\"].min(), events[\"time\"].max(), freq=\"1H\")\n",
    "\n",
    "\n",
    "idx = (picks[\"phase_type\"] == \"P\") & (picks[\"phase_score\"] > 0.9)\n",
    "plt.plot(picks[\"phase_time\"][idx].iloc[::1], picks[\"channel_index\"][idx].iloc[::1], \".\", color=\"C3\", alpha=1.0, markersize=1)\n",
    "\n",
    "idx = (picks[\"phase_type\"] == \"S\") & (picks[\"phase_score\"] > 0.9)\n",
    "plt.plot(picks[\"phase_time\"][idx].iloc[::1], picks[\"channel_index\"][idx].iloc[::1], \".\", color=\"C0\", alpha=1.0, markersize=1)\n",
    "\n",
    "plt.autoscale(enable=True, axis='x', tight=True)\n",
    "plt.savefig(figure_path / \"picks.png\", dpi=300, bbox_inches=\"tight\")\n",
    "\n",
    "plt.show()"
   ]
  },
  {
   "cell_type": "code",
   "execution_count": null,
   "metadata": {},
   "outputs": [],
   "source": [
    "dt = picks[\"phase_time\"].dt.tz_convert(\"America/Los_Angeles\").dt\n",
    "plt.figure()\n",
    "plt.hist(dt.hour, bins=np.arange(0, 25, 1), edgecolor=\"white\", color=\"C0\")\n",
    "plt.xticks(np.arange(0, 25, 3))\n",
    "plt.xlim([0, 24])\n",
    "plt.grid(linestyle=\"--\", alpha=0.5)\n",
    "plt.xlabel(\"Hour\")\n",
    "plt.ylabel(\"Number of picks\")\n",
    "plt.savefig(figure_path / \"picks_hour.pdf\", dpi=300, bbox_inches=\"tight\")\n",
    "plt.show()"
   ]
  },
  {
   "cell_type": "code",
   "execution_count": null,
   "metadata": {},
   "outputs": [],
   "source": [
    "picks[\"phase_time\"].dt.tz_convert(\"America/Los_Angeles\").dt.hour"
   ]
  },
  {
   "cell_type": "code",
   "execution_count": null,
   "metadata": {},
   "outputs": [],
   "source": [
    "picks[\"phase_time\"]"
   ]
  },
  {
   "cell_type": "code",
   "execution_count": null,
   "metadata": {},
   "outputs": [],
   "source": [
    "plt.figure(figsize=(10, 3))\n",
    "plt.pcolormesh(x, y, z, cmap=\"gray\", shading=\"gouraud\")\n",
    "plt.xlim([events[\"time\"].min(), events[\"time\"].min() + pd.Timedelta(days=1)])\n",
    "plt.show()"
   ]
  },
  {
   "cell_type": "code",
   "execution_count": null,
   "metadata": {},
   "outputs": [],
   "source": [
    "das_location"
   ]
  },
  {
   "cell_type": "code",
   "execution_count": null,
   "metadata": {},
   "outputs": [],
   "source": [
    "plt.figure(figsize=(50, 10))\n",
    "idx = (events[\"detectable_distance_km\"] > events[\"distance_km\"])\n",
    "plt.vlines(events[idx][\"time\"], das_location[\"channel\"].min(), das_location[\"channel\"].max(), color=\"gray\", alpha=0.5)\n",
    "# plt.plot(picks[\"phase_time\"][idx].iloc[::1], picks[\"channel_index\"][idx].iloc[::1], \".\", color=\"r\", markersize=1)\n",
    "# idx = (picks[\"phase_type\"] == \"S\") & (picks[\"phase_score\"] > 0.8)\n",
    "# plt.plot(picks[\"phase_time\"][idx].iloc[::1], picks[\"channel_index\"][idx].iloc[::1], \".\", color=\"b\", markersize=1)\n",
    "# plt.savefig(figure_path / \"picks.png\", dpi=300, bbox_inches=\"tight\")\n",
    "plt.show()"
   ]
  },
  {
   "cell_type": "code",
   "execution_count": null,
   "metadata": {},
   "outputs": [],
   "source": [
    "picks[\"phase_time\"].min()"
   ]
  },
  {
   "cell_type": "code",
   "execution_count": null,
   "metadata": {},
   "outputs": [],
   "source": [
    "# add tz_localize(\"UTC\") to phase_time\n",
    "picks[\"phase_time\"] = pd.to_datetime(picks[\"phase_time\"], utc=True)  # .dt.tz_localize(\"UTC\")"
   ]
  },
  {
   "cell_type": "code",
   "execution_count": null,
   "metadata": {},
   "outputs": [],
   "source": [
    "picks"
   ]
  },
  {
   "cell_type": "code",
   "execution_count": null,
   "metadata": {},
   "outputs": [],
   "source": [
    "# picks"
   ]
  },
  {
   "cell_type": "code",
   "execution_count": null,
   "metadata": {},
   "outputs": [],
   "source": [
    "# plt.figure()\n",
    "# plt.hist(picks[\"phase_index\"])\n",
    "# plt.show()"
   ]
  },
  {
   "cell_type": "code",
   "execution_count": null,
   "metadata": {},
   "outputs": [],
   "source": [
    "plt.figure()\n",
    "plt.hist(picks[\"channel_index\"])\n",
    "plt.show()"
   ]
  },
  {
   "cell_type": "code",
   "execution_count": null,
   "metadata": {},
   "outputs": [],
   "source": [
    "plt.figure()\n",
    "plt.hist(picks[\"phase_time\"])\n",
    "plt.show()"
   ]
  },
  {
   "cell_type": "code",
   "execution_count": null,
   "metadata": {},
   "outputs": [],
   "source": [
    "client = Client(\"SCEDC\")\n",
    "event = client.get_events(\n",
    "    starttime=picks[\"phase_time\"].min(),\n",
    "    endtime=picks[\"phase_time\"].max(),\n",
    "    latitude=\n",
    "    longitude=\n",
    "    minmagnitude=5,\n",
    "    \n",
    ")\n",
    "print_event(event)"
   ]
  },
  {
   "cell_type": "code",
   "execution_count": null,
   "metadata": {},
   "outputs": [],
   "source": [
    "plt.figure(figsize=(50, 10))\n",
    "idx = (picks[\"phase_type\"] == \"P\") & (picks[\"phase_score\"] > 0.8)\n",
    "plt.plot(picks[\"phase_time\"][idx].iloc[::1], picks[\"channel_index\"][idx].iloc[::1], \".\", color=\"r\", markersize=1)\n",
    "idx = (picks[\"phase_type\"] == \"S\") & (picks[\"phase_score\"] > 0.8)\n",
    "plt.plot(picks[\"phase_time\"][idx].iloc[::1], picks[\"channel_index\"][idx].iloc[::1], \".\", color=\"b\", markersize=1)\n",
    "plt.savefig(\"picks.png\", dpi=600, bbox_inches=\"tight\")\n",
    "plt.show()"
   ]
  },
  {
   "cell_type": "code",
   "execution_count": null,
   "metadata": {},
   "outputs": [],
   "source": [
    "picks[\"phase_time\"].hist()"
   ]
  },
  {
   "cell_type": "code",
   "execution_count": null,
   "metadata": {},
   "outputs": [],
   "source": []
  }
 ],
 "metadata": {
  "kernelspec": {
   "display_name": "base",
   "language": "python",
   "name": "python3"
  },
  "language_info": {
   "codemirror_mode": {
    "name": "ipython",
    "version": 3
   },
   "file_extension": ".py",
   "mimetype": "text/x-python",
   "name": "python",
   "nbconvert_exporter": "python",
   "pygments_lexer": "ipython3",
   "version": "3.9.12"
  },
  "orig_nbformat": 4
 },
 "nbformat": 4,
 "nbformat_minor": 2
}
