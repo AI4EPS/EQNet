{
 "cells": [
  {
   "cell_type": "code",
   "execution_count": 5,
   "metadata": {},
   "outputs": [],
   "source": [
    "import pathlib\n",
    "from glob import glob\n",
    "import os\n",
    "import pandas as pd\n",
    "from tqdm import tqdm"
   ]
  },
  {
   "cell_type": "code",
   "execution_count": 6,
   "metadata": {},
   "outputs": [],
   "source": [
    "label_path=[\n",
    "    \"/net/kuafu/mnt/tank/data/EventData/Mammoth_north/picks_phasenet_filtered/\",\n",
    "    \"/net/kuafu/mnt/tank/data/EventData/Mammoth_south/picks_phasenet_filtered/\",\n",
    "    \"/net/kuafu/mnt/tank/data/EventData/Ridgecrest/picks_phasenet_filtered/\",\n",
    "    \"/net/kuafu/mnt/tank/data/EventData/Ridgecrest_South/picks_phasenet_filtered/\",\n",
    "]"
   ]
  },
  {
   "cell_type": "code",
   "execution_count": 7,
   "metadata": {},
   "outputs": [],
   "source": [
    "min_p = 500\n",
    "min_s = 500\n",
    "\n",
    "def count_picks(csv_list):\n",
    "    num_p = 0\n",
    "    num_s = 0\n",
    "    # min_p = 10000\n",
    "    # min_s = 10000\n",
    "    num_event = 0\n",
    "    for csv in tqdm(csv_list):\n",
    "        df = pd.read_csv(csv)\n",
    "        tmp_p = len(df[df[\"phase_type\"] == \"P\"])\n",
    "        tmp_s = len(df[df[\"phase_type\"] == \"S\"])\n",
    "        # if tmp_p < min_p:\n",
    "        #     min_p = tmp_p\n",
    "        # if tmp_s < min_s:\n",
    "        #     min_s = tmp_s\n",
    "        if (tmp_p > min_p) and (tmp_s > min_s):\n",
    "            num_p += tmp_p\n",
    "            num_s += tmp_s\n",
    "            num_event += 1\n",
    "        # print(num_p, num_s)\n",
    "        # raise\n",
    "    # return min_p, min_s, num_p, num_s\n",
    "    return num_event, num_p, num_s"
   ]
  },
  {
   "cell_type": "code",
   "execution_count": 11,
   "metadata": {},
   "outputs": [
    {
     "name": "stdout",
     "output_type": "stream",
     "text": [
      "Number of events: 1898 in /net/kuafu/mnt/tank/data/EventData/Mammoth_north/picks_phasenet_filtered/\n"
     ]
    },
    {
     "name": "stderr",
     "output_type": "stream",
     "text": [
      "100%|██████████| 1898/1898 [05:02<00:00,  6.27it/s]\n"
     ]
    },
    {
     "name": "stdout",
     "output_type": "stream",
     "text": [
      "Num event: 542, Num P: 560619, Num S: 560619 in /net/kuafu/mnt/tank/data/EventData/Mammoth_north/picks_phasenet_filtered/\n",
      "Number of events: 1789 in /net/kuafu/mnt/tank/data/EventData/Mammoth_south/picks_phasenet_filtered/\n"
     ]
    },
    {
     "name": "stderr",
     "output_type": "stream",
     "text": [
      "100%|██████████| 1789/1789 [04:00<00:00,  7.43it/s]\n"
     ]
    },
    {
     "name": "stdout",
     "output_type": "stream",
     "text": [
      "Num event: 410, Num P: 352272, Num S: 352272 in /net/kuafu/mnt/tank/data/EventData/Mammoth_south/picks_phasenet_filtered/\n",
      "Number of events: 1497 in /net/kuafu/mnt/tank/data/EventData/Ridgecrest/picks_phasenet_filtered/\n"
     ]
    },
    {
     "name": "stderr",
     "output_type": "stream",
     "text": [
      "100%|██████████| 1497/1497 [03:34<00:00,  6.99it/s]\n"
     ]
    },
    {
     "name": "stdout",
     "output_type": "stream",
     "text": [
      "Num event: 284, Num P: 181885, Num S: 181885 in /net/kuafu/mnt/tank/data/EventData/Ridgecrest/picks_phasenet_filtered/\n",
      "Number of events: 660 in /net/kuafu/mnt/tank/data/EventData/Ridgecrest_South/picks_phasenet_filtered/\n"
     ]
    },
    {
     "name": "stderr",
     "output_type": "stream",
     "text": [
      "100%|██████████| 660/660 [02:19<00:00,  4.73it/s]"
     ]
    },
    {
     "name": "stdout",
     "output_type": "stream",
     "text": [
      "Num event: 419, Num P: 577591, Num S: 577591 in /net/kuafu/mnt/tank/data/EventData/Ridgecrest_South/picks_phasenet_filtered/\n"
     ]
    },
    {
     "name": "stderr",
     "output_type": "stream",
     "text": [
      "\n"
     ]
    }
   ],
   "source": [
    "label_list = []\n",
    "total_event = 0\n",
    "total_p_picks = 0\n",
    "total_s_picks = 0\n",
    "for i in range(len(label_path)):\n",
    "    tmp_list = list(sorted(glob(os.path.join(label_path[i], f\"*.csv\"))))\n",
    "    print(f\"Number of events: {len(tmp_list)} in {label_path[i]}\")\n",
    "    # min_p, min_s, num_p, num_s = count_picks(tmp_list)\n",
    "    # print(f\"Min P: {min_p}, Min S: {min_s}, Num P: {num_p}, Num S: {num_s} in {label_path[i]}\")\n",
    "    num_event, num_p, num_s = count_picks(tmp_list)\n",
    "    print(f\"Num event: {num_event}, Num P: {num_p}, Num S: {num_s} in {label_path[i]}\\n\\n\")\n",
    "\n",
    "    total_event += num_event\n",
    "    total_p_picks += num_p\n",
    "    total_s_picks += num_s\n",
    "    label_list += tmp_list"
   ]
  },
  {
   "cell_type": "code",
   "execution_count": 12,
   "metadata": {},
   "outputs": [
    {
     "name": "stdout",
     "output_type": "stream",
     "text": [
      "Number of events: 1655\n",
      "Number of P picks: 1672367\n",
      "Number of S picks: 1672367\n"
     ]
    }
   ],
   "source": [
    "print(f\"Number of events: {total_event}\")\n",
    "print(f\"Number of P picks: {total_p_picks}\")\n",
    "print(f\"Number of S picks: {total_s_picks}\")"
   ]
  },
  {
   "cell_type": "code",
   "execution_count": null,
   "metadata": {},
   "outputs": [],
   "source": []
  }
 ],
 "metadata": {
  "kernelspec": {
   "display_name": "base",
   "language": "python",
   "name": "python3"
  },
  "language_info": {
   "codemirror_mode": {
    "name": "ipython",
    "version": 3
   },
   "file_extension": ".py",
   "mimetype": "text/x-python",
   "name": "python",
   "nbconvert_exporter": "python",
   "pygments_lexer": "ipython3",
   "version": "3.9.12 (main, Apr  5 2022, 06:56:58) \n[GCC 7.5.0]"
  },
  "orig_nbformat": 4,
  "vscode": {
   "interpreter": {
    "hash": "1e3ae49100bc7694f1c7d98e39f0272018f86c032b21977f10382ed6f4dfda00"
   }
  }
 },
 "nbformat": 4,
 "nbformat_minor": 2
}
