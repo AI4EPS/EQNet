{
 "cells": [
  {
   "cell_type": "code",
   "execution_count": 397,
   "metadata": {},
   "outputs": [],
   "source": [
    "import pandas as pd\n",
    "from pathlib import Path\n",
    "import matplotlib.pyplot as plt\n",
    "from pyproj import Proj\n",
    "import numpy \n",
    "from math import sqrt\n",
    "from datetime import timedelta, datetime\n",
    "R = 6371 #km"
   ]
  },
  {
   "cell_type": "code",
   "execution_count": 398,
   "metadata": {},
   "outputs": [],
   "source": [
    "root_dir = Path(\"./\")"
   ]
  },
  {
   "cell_type": "code",
   "execution_count": 399,
   "metadata": {},
   "outputs": [],
   "source": [
    "stations = pd.read_csv(root_dir / \"das_info.csv\", index_col=\"index\")\n",
    "y0 = stations[\"latitude\"].mean()\n",
    "x0 = stations[\"longitude\"].mean()\n",
    "proj = Proj(f\"+proj=sterea +lon_0={x0} +lat_0={y0} +units=km\")\n",
    "stations[[\"x(km)\", \"y(km)\"]] = stations.apply(lambda x: pd.Series(proj(longitude=x.longitude, latitude=x.latitude)), axis=1)\n",
    "stations[\"z(km)\"] = stations[\"elevation_m\"].apply(lambda x: -x/1e3)\n",
    "stations[\"id\"] = stations.index\n",
    "stations[\"id\"] = stations[\"id\"].astype(str)"
   ]
  },
  {
   "cell_type": "code",
   "execution_count": 400,
   "metadata": {},
   "outputs": [],
   "source": [
    "config = {}\n",
    "# config[\"vel\"] = {\"p\": 5.5, \"s\": 5.5 / 1.73} ## Mammoth\n",
    "config[\"vel\"] = {\"p\": 6., \"s\": 6. / 1.73} ## Mammoth"
   ]
  },
  {
   "cell_type": "code",
   "execution_count": 401,
   "metadata": {},
   "outputs": [],
   "source": [
    "event_path = Path(\"./catalog_gamma_debug.csv\")\n",
    "events = pd.read_csv(event_path, parse_dates=[\"time\"])\n",
    "event_true = {\"event_id\": \"ci39550567\", \"time\": datetime.fromisoformat(\"2021-02-12 23:57:13\"), \"latitude\": 36.218, \"longitude\": -117.927, \"depth_km\": 3.1, \"event_index\": -1}\n",
    "events = pd.concat([events, pd.DataFrame(event_true, index=[0])])\n",
    "events[[\"x(km)\", \"y(km)\"]] = events.apply(lambda x: pd.Series(proj(longitude=x.longitude, latitude=x.latitude)), axis=1)"
   ]
  },
  {
   "cell_type": "code",
   "execution_count": 402,
   "metadata": {},
   "outputs": [],
   "source": [
    "pick_path = Path(\"picks_phasenet_das/ci39550567.csv\")\n",
    "picks = pd.read_csv(pick_path, parse_dates=[\"phase_time\"])\n",
    "picks = picks.join(stations, on=\"channel_index\", how=\"inner\")"
   ]
  },
  {
   "cell_type": "code",
   "execution_count": 403,
   "metadata": {},
   "outputs": [
    {
     "data": {
      "text/html": [
       "<div>\n",
       "<style scoped>\n",
       "    .dataframe tbody tr th:only-of-type {\n",
       "        vertical-align: middle;\n",
       "    }\n",
       "\n",
       "    .dataframe tbody tr th {\n",
       "        vertical-align: top;\n",
       "    }\n",
       "\n",
       "    .dataframe thead th {\n",
       "        text-align: right;\n",
       "    }\n",
       "</style>\n",
       "<table border=\"1\" class=\"dataframe\">\n",
       "  <thead>\n",
       "    <tr style=\"text-align: right;\">\n",
       "      <th></th>\n",
       "      <th>event_id</th>\n",
       "      <th>time</th>\n",
       "      <th>longitude</th>\n",
       "      <th>latitude</th>\n",
       "      <th>depth_km</th>\n",
       "      <th>event_index</th>\n",
       "      <th>x(km)</th>\n",
       "      <th>y(km)</th>\n",
       "    </tr>\n",
       "  </thead>\n",
       "  <tbody>\n",
       "    <tr>\n",
       "      <th>0</th>\n",
       "      <td>ci39550567</td>\n",
       "      <td>2021-02-12 23:57:13.577</td>\n",
       "      <td>-118.123956</td>\n",
       "      <td>36.164025</td>\n",
       "      <td>0.0</td>\n",
       "      <td>0</td>\n",
       "      <td>69.165854</td>\n",
       "      <td>-169.495691</td>\n",
       "    </tr>\n",
       "    <tr>\n",
       "      <th>0</th>\n",
       "      <td>ci39550567</td>\n",
       "      <td>2021-02-12 23:57:13.000</td>\n",
       "      <td>-117.927000</td>\n",
       "      <td>36.218000</td>\n",
       "      <td>3.1</td>\n",
       "      <td>-1</td>\n",
       "      <td>86.829672</td>\n",
       "      <td>-163.344320</td>\n",
       "    </tr>\n",
       "  </tbody>\n",
       "</table>\n",
       "</div>"
      ],
      "text/plain": [
       "     event_id                    time   longitude   latitude  depth_km  \\\n",
       "0  ci39550567 2021-02-12 23:57:13.577 -118.123956  36.164025       0.0   \n",
       "0  ci39550567 2021-02-12 23:57:13.000 -117.927000  36.218000       3.1   \n",
       "\n",
       "   event_index      x(km)       y(km)  \n",
       "0            0  69.165854 -169.495691  \n",
       "0           -1  86.829672 -163.344320  "
      ]
     },
     "execution_count": 403,
     "metadata": {},
     "output_type": "execute_result"
    }
   ],
   "source": [
    "events"
   ]
  },
  {
   "cell_type": "code",
   "execution_count": 404,
   "metadata": {},
   "outputs": [
    {
     "name": "stdout",
     "output_type": "stream",
     "text": [
      "-27.575\n"
     ]
    }
   ],
   "source": [
    "print((events[\"time\"].iloc[-1] - picks[\"phase_time\"].min().replace(tzinfo=None)).total_seconds())"
   ]
  },
  {
   "cell_type": "code",
   "execution_count": 405,
   "metadata": {},
   "outputs": [
    {
     "data": {
      "image/png": "[encoded data removed]",
      "text/plain": [
       "<Figure size 640x480 with 1 Axes>"
      ]
     },
     "metadata": {},
     "output_type": "display_data"
    }
   ],
   "source": [
    "plt.figure()\n",
    "# plt.scatter(stations[\"x(km)\"], stations[\"y(km)\"], marker='o', facecolors='none', edgecolors='k')\n",
    "plt.scatter(picks[\"x(km)\"], picks[\"y(km)\"], c=picks[\"phase_score\"], marker='.')\n",
    "plt.scatter(events[\"x(km)\"], events[\"y(km)\"], marker='x')\n",
    "plt.show()"
   ]
  },
  {
   "cell_type": "code",
   "execution_count": 406,
   "metadata": {},
   "outputs": [
    {
     "data": {
      "image/png": "[encoded data removed]",
      "text/plain": [
       "<Figure size 640x480 with 1 Axes>"
      ]
     },
     "metadata": {},
     "output_type": "display_data"
    }
   ],
   "source": [
    "plt.figure()\n",
    "plt.scatter(picks[\"channel_index\"], picks[\"phase_time\"], s=1)\n",
    "plt.gca().invert_yaxis()\n",
    "plt.show()"
   ]
  },
  {
   "cell_type": "code",
   "execution_count": 407,
   "metadata": {},
   "outputs": [
    {
     "data": {
      "text/html": [
       "<div>\n",
       "<style scoped>\n",
       "    .dataframe tbody tr th:only-of-type {\n",
       "        vertical-align: middle;\n",
       "    }\n",
       "\n",
       "    .dataframe tbody tr th {\n",
       "        vertical-align: top;\n",
       "    }\n",
       "\n",
       "    .dataframe thead th {\n",
       "        text-align: right;\n",
       "    }\n",
       "</style>\n",
       "<table border=\"1\" class=\"dataframe\">\n",
       "  <thead>\n",
       "    <tr style=\"text-align: right;\">\n",
       "      <th></th>\n",
       "      <th>event_id</th>\n",
       "      <th>time</th>\n",
       "      <th>longitude</th>\n",
       "      <th>latitude</th>\n",
       "      <th>depth_km</th>\n",
       "      <th>event_index</th>\n",
       "      <th>x(km)</th>\n",
       "      <th>y(km)</th>\n",
       "    </tr>\n",
       "  </thead>\n",
       "  <tbody>\n",
       "    <tr>\n",
       "      <th>0</th>\n",
       "      <td>ci39550567</td>\n",
       "      <td>2021-02-12 23:57:13.577</td>\n",
       "      <td>-118.123956</td>\n",
       "      <td>36.164025</td>\n",
       "      <td>0.0</td>\n",
       "      <td>0</td>\n",
       "      <td>69.165854</td>\n",
       "      <td>-169.495691</td>\n",
       "    </tr>\n",
       "    <tr>\n",
       "      <th>0</th>\n",
       "      <td>ci39550567</td>\n",
       "      <td>2021-02-12 23:57:13.000</td>\n",
       "      <td>-117.927000</td>\n",
       "      <td>36.218000</td>\n",
       "      <td>3.1</td>\n",
       "      <td>-1</td>\n",
       "      <td>86.829672</td>\n",
       "      <td>-163.344320</td>\n",
       "    </tr>\n",
       "  </tbody>\n",
       "</table>\n",
       "</div>"
      ],
      "text/plain": [
       "     event_id                    time   longitude   latitude  depth_km  \\\n",
       "0  ci39550567 2021-02-12 23:57:13.577 -118.123956  36.164025       0.0   \n",
       "0  ci39550567 2021-02-12 23:57:13.000 -117.927000  36.218000       3.1   \n",
       "\n",
       "   event_index      x(km)       y(km)  \n",
       "0            0  69.165854 -169.495691  \n",
       "0           -1  86.829672 -163.344320  "
      ]
     },
     "execution_count": 407,
     "metadata": {},
     "output_type": "execute_result"
    }
   ],
   "source": [
    "events"
   ]
  },
  {
   "cell_type": "code",
   "execution_count": 408,
   "metadata": {},
   "outputs": [
    {
     "data": {
      "text/html": [
       "<div>\n",
       "<style scoped>\n",
       "    .dataframe tbody tr th:only-of-type {\n",
       "        vertical-align: middle;\n",
       "    }\n",
       "\n",
       "    .dataframe tbody tr th {\n",
       "        vertical-align: top;\n",
       "    }\n",
       "\n",
       "    .dataframe thead th {\n",
       "        text-align: right;\n",
       "    }\n",
       "</style>\n",
       "<table border=\"1\" class=\"dataframe\">\n",
       "  <thead>\n",
       "    <tr style=\"text-align: right;\">\n",
       "      <th></th>\n",
       "      <th>latitude</th>\n",
       "      <th>longitude</th>\n",
       "      <th>elevation_m</th>\n",
       "      <th>x(km)</th>\n",
       "      <th>y(km)</th>\n",
       "      <th>z(km)</th>\n",
       "      <th>id</th>\n",
       "    </tr>\n",
       "    <tr>\n",
       "      <th>index</th>\n",
       "      <th></th>\n",
       "      <th></th>\n",
       "      <th></th>\n",
       "      <th></th>\n",
       "      <th></th>\n",
       "      <th></th>\n",
       "      <th></th>\n",
       "    </tr>\n",
       "  </thead>\n",
       "  <tbody>\n",
       "    <tr>\n",
       "      <th>4990</th>\n",
       "      <td>37.642440</td>\n",
       "      <td>-118.963959</td>\n",
       "      <td>2382.0</td>\n",
       "      <td>-6.304141</td>\n",
       "      <td>-5.693666</td>\n",
       "      <td>-2.382</td>\n",
       "      <td>4990</td>\n",
       "    </tr>\n",
       "    <tr>\n",
       "      <th>4989</th>\n",
       "      <td>37.642532</td>\n",
       "      <td>-118.963959</td>\n",
       "      <td>2382.0</td>\n",
       "      <td>-6.304133</td>\n",
       "      <td>-5.683435</td>\n",
       "      <td>-2.382</td>\n",
       "      <td>4989</td>\n",
       "    </tr>\n",
       "    <tr>\n",
       "      <th>4988</th>\n",
       "      <td>37.642624</td>\n",
       "      <td>-118.963959</td>\n",
       "      <td>2382.0</td>\n",
       "      <td>-6.304125</td>\n",
       "      <td>-5.673214</td>\n",
       "      <td>-2.382</td>\n",
       "      <td>4988</td>\n",
       "    </tr>\n",
       "    <tr>\n",
       "      <th>4987</th>\n",
       "      <td>37.642716</td>\n",
       "      <td>-118.963959</td>\n",
       "      <td>2382.0</td>\n",
       "      <td>-6.304118</td>\n",
       "      <td>-5.663018</td>\n",
       "      <td>-2.382</td>\n",
       "      <td>4987</td>\n",
       "    </tr>\n",
       "    <tr>\n",
       "      <th>4986</th>\n",
       "      <td>37.642808</td>\n",
       "      <td>-118.963959</td>\n",
       "      <td>2382.0</td>\n",
       "      <td>-6.304110</td>\n",
       "      <td>-5.652779</td>\n",
       "      <td>-2.382</td>\n",
       "      <td>4986</td>\n",
       "    </tr>\n",
       "    <tr>\n",
       "      <th>...</th>\n",
       "      <td>...</td>\n",
       "      <td>...</td>\n",
       "      <td>...</td>\n",
       "      <td>...</td>\n",
       "      <td>...</td>\n",
       "      <td>...</td>\n",
       "      <td>...</td>\n",
       "    </tr>\n",
       "    <tr>\n",
       "      <th>9982</th>\n",
       "      <td>37.606536</td>\n",
       "      <td>-118.623747</td>\n",
       "      <td>2226.0</td>\n",
       "      <td>23.733458</td>\n",
       "      <td>-9.647017</td>\n",
       "      <td>-2.226</td>\n",
       "      <td>9982</td>\n",
       "    </tr>\n",
       "    <tr>\n",
       "      <th>9983</th>\n",
       "      <td>37.606456</td>\n",
       "      <td>-118.623697</td>\n",
       "      <td>2225.0</td>\n",
       "      <td>23.737846</td>\n",
       "      <td>-9.655832</td>\n",
       "      <td>-2.225</td>\n",
       "      <td>9983</td>\n",
       "    </tr>\n",
       "    <tr>\n",
       "      <th>9984</th>\n",
       "      <td>37.606377</td>\n",
       "      <td>-118.623648</td>\n",
       "      <td>2226.0</td>\n",
       "      <td>23.742248</td>\n",
       "      <td>-9.664574</td>\n",
       "      <td>-2.226</td>\n",
       "      <td>9984</td>\n",
       "    </tr>\n",
       "    <tr>\n",
       "      <th>9985</th>\n",
       "      <td>37.606294</td>\n",
       "      <td>-118.623626</td>\n",
       "      <td>2226.0</td>\n",
       "      <td>23.744201</td>\n",
       "      <td>-9.673867</td>\n",
       "      <td>-2.226</td>\n",
       "      <td>9985</td>\n",
       "    </tr>\n",
       "    <tr>\n",
       "      <th>9986</th>\n",
       "      <td>37.606260</td>\n",
       "      <td>-118.623634</td>\n",
       "      <td>2226.0</td>\n",
       "      <td>23.743506</td>\n",
       "      <td>-9.677657</td>\n",
       "      <td>-2.226</td>\n",
       "      <td>9986</td>\n",
       "    </tr>\n",
       "  </tbody>\n",
       "</table>\n",
       "<p>8981 rows × 7 columns</p>\n",
       "</div>"
      ],
      "text/plain": [
       "        latitude   longitude  elevation_m      x(km)     y(km)  z(km)    id\n",
       "index                                                                      \n",
       "4990   37.642440 -118.963959       2382.0  -6.304141 -5.693666 -2.382  4990\n",
       "4989   37.642532 -118.963959       2382.0  -6.304133 -5.683435 -2.382  4989\n",
       "4988   37.642624 -118.963959       2382.0  -6.304125 -5.673214 -2.382  4988\n",
       "4987   37.642716 -118.963959       2382.0  -6.304118 -5.663018 -2.382  4987\n",
       "4986   37.642808 -118.963959       2382.0  -6.304110 -5.652779 -2.382  4986\n",
       "...          ...         ...          ...        ...       ...    ...   ...\n",
       "9982   37.606536 -118.623747       2226.0  23.733458 -9.647017 -2.226  9982\n",
       "9983   37.606456 -118.623697       2225.0  23.737846 -9.655832 -2.225  9983\n",
       "9984   37.606377 -118.623648       2226.0  23.742248 -9.664574 -2.226  9984\n",
       "9985   37.606294 -118.623626       2226.0  23.744201 -9.673867 -2.226  9985\n",
       "9986   37.606260 -118.623634       2226.0  23.743506 -9.677657 -2.226  9986\n",
       "\n",
       "[8981 rows x 7 columns]"
      ]
     },
     "execution_count": 408,
     "metadata": {},
     "output_type": "execute_result"
    }
   ],
   "source": [
    "stations"
   ]
  },
  {
   "cell_type": "code",
   "execution_count": 409,
   "metadata": {},
   "outputs": [
    {
     "data": {
      "image/png": "[encoded data removed]",
      "text/plain": [
       "<Figure size 640x480 with 1 Axes>"
      ]
     },
     "metadata": {},
     "output_type": "display_data"
    },
    {
     "data": {
      "image/png": "[encoded data removed]",
      "text/plain": [
       "<Figure size 640x480 with 1 Axes>"
      ]
     },
     "metadata": {},
     "output_type": "display_data"
    }
   ],
   "source": [
    "for _, event in events.iterrows():\n",
    "    phase_picks_p = stations.copy()\n",
    "    phase_picks_p[\"phase_time\"] = phase_picks_p.apply(lambda x: timedelta(seconds = sqrt((x[\"x(km)\"]-event[\"x(km)\"])**2 + (x[\"y(km)\"]-event[\"y(km)\"])**2 + (x[\"z(km)\"]-event[\"depth_km\"])**2) / config[\"vel\"][\"p\"]) + event[\"time\"], axis=1)\n",
    "    phase_picks_p[\"phase_type\"] = \"P\"\n",
    "\n",
    "    phase_picks_s = stations.copy()\n",
    "    phase_picks_s[\"phase_time\"] = phase_picks_s.apply(lambda x: timedelta(seconds = sqrt((x[\"x(km)\"]-event[\"x(km)\"])**2 + (x[\"y(km)\"]-event[\"y(km)\"])**2 + (x[\"z(km)\"]-event[\"depth_km\"])**2) / config[\"vel\"][\"s\"]) + event[\"time\"], axis=1)\n",
    "    phase_picks_s[\"phase_type\"] = \"S\"\n",
    "\n",
    "    phase_picks = pd.concat([phase_picks_p, phase_picks_s])\n",
    "    \n",
    "    plt.figure()\n",
    "    plt.scatter(phase_picks.index, phase_picks[\"phase_time\"], s=1)\n",
    "    plt.scatter(picks[\"channel_index\"], picks[\"phase_time\"], s=1)\n",
    "    plt.gca().invert_yaxis()"
   ]
  }
 ],
 "metadata": {
  "kernelspec": {
   "display_name": "base",
   "language": "python",
   "name": "python3"
  },
  "language_info": {
   "codemirror_mode": {
    "name": "ipython",
    "version": 3
   },
   "file_extension": ".py",
   "mimetype": "text/x-python",
   "name": "python",
   "nbconvert_exporter": "python",
   "pygments_lexer": "ipython3",
   "version": "3.9.12"
  },
  "orig_nbformat": 4,
  "vscode": {
   "interpreter": {
    "hash": "1e3ae49100bc7694f1c7d98e39f0272018f86c032b21977f10382ed6f4dfda00"
   }
  }
 },
 "nbformat": 4,
 "nbformat_minor": 2
}
